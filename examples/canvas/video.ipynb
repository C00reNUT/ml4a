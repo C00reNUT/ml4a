{
 "cells": [
  {
   "cell_type": "code",
   "execution_count": null,
   "metadata": {},
   "outputs": [],
   "source": [
    "    \n",
    "#s,c,sh = 1.1,1.25,1.2\n",
    "\n",
    "#gen_video_dir(\"/home/gene/lapnorm/results/test_5\",s, c, sh, overwrite=True)\n",
    "#gen_video(\"/home/gene/lapnorm/results/test_7/F2-41+C2-0+C3-179+B2-44+C1-106_n11_o02_r1.39\",s, c, sh)\n",
    "#gen_video(\"/home/gene/lapnorm/results/test_8/F2-41+C2-0+C3-179+B2-44+C1-106_n11_o02_r1.39\",s, c, sh)\n",
    "\n",
    "#gen_video(\"/home/gene/lapnorm/results/new2/C1-1_n10_o03_r1.32\", s, c, sh, None, False)\n",
    "\n",
    "#gen_video(\"/home/gene/lapnorm/results/new2/D1-152+D1-120+H4-13+G2-30+H3-103_n15_o02_r1.32\", s, c, sh, None, False)\n",
    "#gen_video(\"/home/gene/lapnorm/results/new3/C6-54+D2-50+C2-6+C6-5_n12_o02_r1.32\", s, c, sh, None, False)\n",
    "\n",
    "\n",
    "\n",
    "#gen_video(\"/home/gene/lapnorm/results/new3/C1-7+C6-30+B3-62+C6-5_n10_o02_r1.32\", s, c, sh, None, False)\n",
    "#gen_video(\"/home/gene/lapnorm/results/new2/F5-50+D3-100+F6-54+D1-162_n15_o03_r1.32\", s, c, sh, None, False)\n",
    "\n",
    "# faves = ['/home/gene/lapnorm/results/new2/C1-1_n10_o03_r1.32', \n",
    "#         '/home/gene/lapnorm/results/new2/H6-88_n10_o03_r1.32',\n",
    "#         '/home/gene/lapnorm/results/new2/C6-5_n10_o03_r1.32',\n",
    "#         '/home/gene/lapnorm/results/new2/H3-77_n10_o03_r1.32',\n",
    "#         '/home/gene/lapnorm/results/new2/G2-36_n10_o03_r1.32',\n",
    "#         '/home/gene/lapnorm/results/new2/H1-183_n10_o03_r1.32']\n",
    "# for g in faves:\n",
    "#     gen_video(g, s, c, sh, None, False)\n"
   ]
  },
  {
   "cell_type": "markdown",
   "metadata": {},
   "source": [
    "Also how to do from command line"
   ]
  },
  {
   "cell_type": "code",
   "execution_count": null,
   "metadata": {},
   "outputs": [],
   "source": []
  }
 ],
 "metadata": {
  "kernelspec": {
   "display_name": "Python 3",
   "language": "python",
   "name": "python3"
  },
  "language_info": {
   "codemirror_mode": {
    "name": "ipython",
    "version": 3
   },
   "file_extension": ".py",
   "mimetype": "text/x-python",
   "name": "python",
   "nbconvert_exporter": "python",
   "pygments_lexer": "ipython3",
   "version": "3.6.8"
  }
 },
 "nbformat": 4,
 "nbformat_minor": 4
}
