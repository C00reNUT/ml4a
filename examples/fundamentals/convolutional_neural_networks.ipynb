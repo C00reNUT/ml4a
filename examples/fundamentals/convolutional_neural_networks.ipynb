{
  "nbformat": 4,
  "nbformat_minor": 0,
  "metadata": {
    "kernelspec": {
      "display_name": "Python 3",
      "language": "python",
      "name": "python3"
    },
    "language_info": {
      "codemirror_mode": {
        "name": "ipython",
        "version": 3
      },
      "file_extension": ".py",
      "mimetype": "text/x-python",
      "name": "python",
      "nbconvert_exporter": "python",
      "pygments_lexer": "ipython3",
      "version": "3.5.2"
    },
    "colab": {
      "name": "convolutional_neural_networks.ipynb",
      "provenance": [],
      "collapsed_sections": []
    },
    "accelerator": "GPU"
  },
  "cells": [
    {
      "cell_type": "markdown",
      "metadata": {
        "id": "7QSriRbEfWQd",
        "colab_type": "text"
      },
      "source": [
        "### Convolutional networks\n",
        "\n",
        "This is an annotated version of PyTorch's [example MNIST CNN code](https://pytorch.org/tutorials/beginner/blitz/cifar10_tutorial.html) for how to implement convolutional networks.\n",
        "\n",
        "The CIFAR-10 classification task is a classic machine learning benchmark. The data includes 50,000 images belonging to 10 classes, and the task is to identify them. Along with MNIST, CIFAR-10 classification is a sort of like a \"hello world\" for computer vision and convolutional networks, so a solution can be implemented quickly with an off-the-shelf machine learning library.\n",
        "\n",
        "Since convolutional neural networks have thus far proven to be the best at computer vision tasks, we'll use the PyTorch library to implement a convolutional networks as our solution.\n",
        "\n",
        "Note, if you have been running these notebooks on a regular laptop without GPU until now, it's going to become more and more difficult to do so. The neural networks we will be training, starting with convolutional networks, will become increasingly memory and processing-intensive and may slow down laptops without good graphics processing. As such, it is recommended that you follow future tutorials inside Google Collab or a sufficiently powerful computer. \n",
        "\n",
        "Collab does not automatically include a GPU in it's runtime. Rather by navigating to Edit>Notebook Settings>Hardware Accelerator>GPU you can enable a gpu."
      ]
    },
    {
      "cell_type": "code",
      "metadata": {
        "id": "-oqQz7fGfWQe",
        "colab_type": "code",
        "colab": {}
      },
      "source": [
        "import random\n",
        "import numpy as np\n",
        "import matplotlib.pyplot as plt\n",
        "\n",
        "import torch\n",
        "import torch.nn as nn\n",
        "import torch.nn.functional as F\n",
        "import torchvision\n",
        "import torchvision.transforms as transforms\n",
        "\n",
        "device = torch.device(\"cuda:0\" if torch.cuda.is_available() else \"cpu\")"
      ],
      "execution_count": 43,
      "outputs": []
    },
    {
      "cell_type": "markdown",
      "metadata": {
        "id": "LE31tDEQfWQg",
        "colab_type": "text"
      },
      "source": [
        "Recall that a basic neural network in PyTorch can be set up like this:\n",
        "Note:\n",
        "The images in CIFAR-10 are 32 by 32. An easy way to troubleshoot the correct input dimension is to encounter a dimension mismatch error. For example, [2x35] x [1024x4] doesn't work, but [2x1024] x [1924x4] does. This is usually as simple as matching the second matrix's first number with the first matrix's second number."
      ]
    },
    {
      "cell_type": "code",
      "metadata": {
        "id": "OzYJ9JMgfWQh",
        "colab_type": "code",
        "colab": {}
      },
      "source": [
        "class Net(nn.Module):\n",
        "\n",
        "    def __init__(self):\n",
        "        super(Net, self).__init__()\n",
        "        self.fc1 = nn.Linear(32, 64) \n",
        "        self.fc2 = nn.Linear(64, 1)\n",
        "    def forward(self, x):\n",
        "         x = F.sigmoid(self.fc1(x))\n",
        "         x = self.fc2(x)\n",
        "         return x\n",
        "\n",
        "net = Net()"
      ],
      "execution_count": 25,
      "outputs": []
    },
    {
      "cell_type": "markdown",
      "metadata": {
        "id": "c8594MPbfWQj",
        "colab_type": "text"
      },
      "source": [
        "We load CIFAR-10 dataset and reshape them as individual vectors. This is easy to do using TorchVision as all the classes are essentially reshapen already. Here we use the DataLoader to create an instance of the training dataset and the test set. The DataLoader also has an option to shuffle the dataset, which helps avoid overfitting."
      ]
    },
    {
      "cell_type": "code",
      "metadata": {
        "id": "9Ckw_2iOfWQj",
        "colab_type": "code",
        "colab": {
          "base_uri": "https://localhost:8080/",
          "height": 51
        },
        "outputId": "9de9cc3d-9acc-4baf-eb4d-a8b8dda3648e"
      },
      "source": [
        "transform = transforms.Compose(\n",
        "    [transforms.ToTensor(),\n",
        "     transforms.Normalize((0.5, 0.5, 0.5), (0.5, 0.5, 0.5))])\n",
        "\n",
        "trainset = torchvision.datasets.CIFAR10(root='./data', train=True,\n",
        "                                        download=True, transform=transform)\n",
        "trainloader = torch.utils.data.DataLoader(trainset, batch_size=128,\n",
        "                                          shuffle=True, num_workers=8)\n",
        "\n",
        "testset = torchvision.datasets.CIFAR10(root='./data', train=False,\n",
        "                                       download=True, transform=transform)\n",
        "testloader = torch.utils.data.DataLoader(testset, batch_size=128,\n",
        "                                         shuffle=False, num_workers=8)\n",
        "\n",
        "classes = ('plane', 'car', 'bird', 'cat',\n",
        "           'deer', 'dog', 'frog', 'horse', 'ship', 'truck')\n"
      ],
      "execution_count": 37,
      "outputs": [
        {
          "output_type": "stream",
          "text": [
            "Files already downloaded and verified\n",
            "Files already downloaded and verified\n"
          ],
          "name": "stdout"
        }
      ]
    },
    {
      "cell_type": "markdown",
      "metadata": {
        "id": "42I-jZ-sfWQl",
        "colab_type": "text"
      },
      "source": [
        "Let's see some of our samples."
      ]
    },
    {
      "cell_type": "code",
      "metadata": {
        "id": "H6BXkvqEfWQm",
        "colab_type": "code",
        "colab": {
          "base_uri": "https://localhost:8080/",
          "height": 286
        },
        "outputId": "ec4e8157-020d-4d88-dcc3-f2b5f2a4a127"
      },
      "source": [
        "def imshow(img):\n",
        "    img = img / 2 + 0.5     # unnormalize\n",
        "    npimg = img.numpy()\n",
        "    plt.imshow(np.transpose(npimg, (1, 2, 0)))\n",
        "    plt.show()\n",
        "\n",
        "\n",
        "# get some random training images\n",
        "dataiter = iter(trainloader)\n",
        "images, labels = dataiter.next()\n",
        "\n",
        "# show images\n",
        "imshow(torchvision.utils.make_grid(images))\n",
        "# print labels\n",
        "print(' '.join('%5s' % classes[labels[j]] for j in range(4)))\n"
      ],
      "execution_count": 26,
      "outputs": [
        {
          "output_type": "display_data",
          "data": {
            "image/png": "[encoded data removed]",
            "text/plain": [
              "<Figure size 432x288 with 1 Axes>"
            ]
          },
          "metadata": {
            "tags": [],
            "needs_background": "light"
          }
        },
        {
          "output_type": "stream",
          "text": [
            "plane plane  frog truck\n"
          ],
          "name": "stdout"
        }
      ]
    },
    {
      "cell_type": "markdown",
      "metadata": {
        "id": "cUxNBpIGfWQo",
        "colab_type": "text"
      },
      "source": [
        "We can compile the model using categorical-cross-entropy loss, and train it for 30 epochs."
      ]
    },
    {
      "cell_type": "code",
      "metadata": {
        "id": "mH8QXCPsfWQo",
        "colab_type": "code",
        "colab": {
          "base_uri": "https://localhost:8080/",
          "height": 1000
        },
        "outputId": "a8df56e0-480a-4abd-f2d5-fa8148402cfa"
      },
      "source": [
        "from torch import optim\n",
        "optimizer = optim.SGD(net.parameters(), lr=0.01)\n",
        "criterion = nn.MSELoss()\n",
        "\n",
        "def fullPass(loader):\n",
        "\n",
        "    running_loss = 0.0\n",
        "    for i, data in enumerate(loader, 0):\n",
        "        inputs, labels = data\n",
        "        outputs = net(inputs)\n",
        "        loss = criterion(outputs, labels.float())\n",
        "        loss.backward()\n",
        "        optimizer.step()\n",
        "\n",
        "        # print statistics\n",
        "        running_loss += loss\n",
        "        if i % inputs.size()[0] == inputs.size()[0]-1:\n",
        "            print('[%d, %5d] loss: %.3f' %\n",
        "                  (epoch + 1, i + 1, running_loss / inputs.size()[0]))\n",
        "            running_loss = 0.0\n",
        "\n",
        "net.train()\n",
        "for epoch in range(30):\n",
        "    fullPass(trainloader);\n",
        "\n",
        "\n",
        "print('Finished Training')\n"
      ],
      "execution_count": 38,
      "outputs": [
        {
          "output_type": "stream",
          "text": [
            "/usr/local/lib/python3.6/dist-packages/torch/nn/functional.py:1625: UserWarning: nn.functional.sigmoid is deprecated. Use torch.sigmoid instead.\n",
            "  warnings.warn(\"nn.functional.sigmoid is deprecated. Use torch.sigmoid instead.\")\n",
            "/usr/local/lib/python3.6/dist-packages/torch/nn/modules/loss.py:445: UserWarning: Using a target size (torch.Size([128])) that is different to the input size (torch.Size([128, 3, 32, 1])). This will likely lead to incorrect results due to broadcasting. Please ensure they have the same size.\n",
            "  return F.mse_loss(input, target, reduction=self.reduction)\n"
          ],
          "name": "stderr"
        },
        {
          "output_type": "stream",
          "text": [
            "[1,   128] loss: 4020193.000\n",
            "[1,   256] loss: 3555136.000\n",
            "[1,   384] loss: 3651227.500\n"
          ],
          "name": "stdout"
        },
        {
          "output_type": "stream",
          "text": [
            "/usr/local/lib/python3.6/dist-packages/torch/nn/modules/loss.py:445: UserWarning: Using a target size (torch.Size([80])) that is different to the input size (torch.Size([80, 3, 32, 1])). This will likely lead to incorrect results due to broadcasting. Please ensure they have the same size.\n",
            "  return F.mse_loss(input, target, reduction=self.reduction)\n"
          ],
          "name": "stderr"
        },
        {
          "output_type": "stream",
          "text": [
            "[2,   128] loss: 3825879.500\n",
            "[2,   256] loss: 3753424.250\n",
            "[2,   384] loss: 3237310.000\n",
            "[3,   128] loss: 3066833.750\n",
            "[3,   256] loss: 3421926.500\n",
            "[3,   384] loss: 3224648.000\n",
            "[4,   128] loss: 3857630.500\n",
            "[4,   256] loss: 3447630.250\n",
            "[4,   384] loss: 3956351.750\n",
            "[5,   128] loss: 3928979.250\n",
            "[5,   256] loss: 4027243.250\n",
            "[5,   384] loss: 3875300.000\n",
            "[6,   128] loss: 3934516.250\n",
            "[6,   256] loss: 3790205.750\n",
            "[6,   384] loss: 4006575.000\n",
            "[7,   128] loss: 4248811.500\n",
            "[7,   256] loss: 4530132.000\n",
            "[7,   384] loss: 4793546.500\n",
            "[8,   128] loss: 4841698.500\n",
            "[8,   256] loss: 4863230.000\n",
            "[8,   384] loss: 4548728.500\n",
            "[9,   128] loss: 4598239.000\n",
            "[9,   256] loss: 4666154.500\n",
            "[9,   384] loss: 5003332.000\n",
            "[10,   128] loss: 4938667.500\n",
            "[10,   256] loss: 4888452.000\n",
            "[10,   384] loss: 4493713.000\n",
            "[11,   128] loss: 4194706.000\n",
            "[11,   256] loss: 3973817.750\n",
            "[11,   384] loss: 4152579.500\n",
            "[12,   128] loss: 4128894.500\n",
            "[12,   256] loss: 4155533.750\n",
            "[12,   384] loss: 4629863.500\n",
            "[13,   128] loss: 4397191.000\n",
            "[13,   256] loss: 4575090.000\n",
            "[13,   384] loss: 4271777.000\n",
            "[14,   128] loss: 4140515.500\n",
            "[14,   256] loss: 4336476.500\n",
            "[14,   384] loss: 3905059.250\n",
            "[15,   128] loss: 3790968.250\n",
            "[15,   256] loss: 3779937.750\n",
            "[15,   384] loss: 3567953.250\n",
            "[16,   128] loss: 3962072.250\n",
            "[16,   256] loss: 3559868.000\n",
            "[16,   384] loss: 3773998.750\n",
            "[17,   128] loss: 3926584.000\n",
            "[17,   256] loss: 4019845.750\n",
            "[17,   384] loss: 4077655.250\n",
            "[18,   128] loss: 3972522.500\n",
            "[18,   256] loss: 4193194.750\n",
            "[18,   384] loss: 4052591.750\n",
            "[19,   128] loss: 4620321.000\n",
            "[19,   256] loss: 4298676.500\n",
            "[19,   384] loss: 4752976.000\n",
            "[20,   128] loss: 4625664.500\n",
            "[20,   256] loss: 4920090.000\n",
            "[20,   384] loss: 4745442.000\n",
            "[21,   128] loss: 4540518.500\n",
            "[21,   256] loss: 4464098.000\n",
            "[21,   384] loss: 4692497.000\n",
            "[22,   128] loss: 4746114.500\n",
            "[22,   256] loss: 4996119.500\n",
            "[22,   384] loss: 5232515.000\n",
            "[23,   128] loss: 5248022.500\n",
            "[23,   256] loss: 5309996.000\n",
            "[23,   384] loss: 5421919.000\n",
            "[24,   128] loss: 4797610.000\n",
            "[24,   256] loss: 4337045.000\n",
            "[24,   384] loss: 4179665.000\n",
            "[25,   128] loss: 4375727.500\n",
            "[25,   256] loss: 4232251.500\n",
            "[25,   384] loss: 4658578.000\n",
            "[26,   128] loss: 4267551.500\n",
            "[26,   256] loss: 4503705.000\n",
            "[26,   384] loss: 4595231.500\n",
            "[27,   128] loss: 5156334.500\n",
            "[27,   256] loss: 5178714.500\n",
            "[27,   384] loss: 5521671.000\n",
            "[28,   128] loss: 6216369.000\n",
            "[28,   256] loss: 5821385.000\n",
            "[28,   384] loss: 5934881.500\n",
            "[29,   128] loss: 5721076.500\n",
            "[29,   256] loss: 5753336.500\n",
            "[29,   384] loss: 5431501.500\n",
            "[30,   128] loss: 6153343.000\n",
            "[30,   256] loss: 5757525.000\n",
            "[30,   384] loss: 6075626.000\n",
            "Finished Training\n"
          ],
          "name": "stdout"
        }
      ]
    },
    {
      "cell_type": "markdown",
      "metadata": {
        "id": "i50bFYpWfWQq",
        "colab_type": "text"
      },
      "source": [
        "At this point, there is practically no need to evaluate the model as our neural net is simply not cutting it. With a loss function in the millions, we cannot use a single layer simple neural network on images."
      ]
    },
    {
      "cell_type": "markdown",
      "metadata": {
        "id": "Q9EPu5HHfWQt",
        "colab_type": "text"
      },
      "source": [
        "Introducing, the convolutional network... The general architecture of a convolutional neural network is this:\n",
        "\n",
        "- convolution layers, followed by pooling layers\n",
        "- fully-connected layers\n",
        "- a final fully-connected softmax layer\n",
        "\n",
        "We'll follow this same basic structure and interweave some other components, such as [dropout](https://en.wikipedia.org/wiki/Dropout_(neural_networks), to improve performance.\n",
        "\n",
        "To begin, we start with our convolution layers. We first need to specify some architectural hyperparemeters:\n",
        "\n",
        "- _How many filters do we want for our convolution layers?_ Like most hyperparameters, this is chosen through a mix of intuition and tuning. A rough rule of thumb is: the more complex the task, the more filters. (Note that we don't need to have the same number of filters for each convolution layer, but we are doing so here for convenience.)\n",
        "- _What size should our convolution filters be?_ We don't want filters to be too large or the resulting matrix might not be very meaningful. For instance, a useless filter size in this task would be a 28x28 filter since it covers the whole image. We also don't want filters to be too small for a similar reason, e.g. a 1x1 filter just returns each pixel.\n",
        "- _What size should our pooling window be?_ Again, we don't want pooling windows to be too large or we'll be throwing away information. However, for larger images, a larger pooling window might be appropriate (same goes for convolution filters).\n",
        "\n",
        "We start by designing a neural network with two alternating convolutional and max-pooling layers, followed by a 100-neuron fully-connected layer and a 10-neuron output. We'll have 64 and 32 filters in the two convolutional layers, and make the input shape a full-sized image (32x32x3) instead of an unrolled vector (3072x1).  We also now use ReLU activation units instead of sigmoids, to avoid vanishing gradients."
      ]
    },
    {
      "cell_type": "code",
      "metadata": {
        "id": "9oohj429fWQt",
        "colab_type": "code",
        "colab": {
          "base_uri": "https://localhost:8080/",
          "height": 153
        },
        "outputId": "70bb626c-51fa-4a39-866b-f274e5ce66af"
      },
      "source": [
        "class Net(nn.Module):\n",
        "    def __init__(self):\n",
        "        super(Net, self).__init__()\n",
        "        self.conv1 = nn.Conv2d(3, 6, 5)\n",
        "        self.pool = nn.MaxPool2d(2, 2)\n",
        "        self.conv2 = nn.Conv2d(6, 16, 5)\n",
        "        self.fc1 = nn.Linear(16 * 5 * 5, 120)\n",
        "        self.fc2 = nn.Linear(120, 84)\n",
        "        self.fc3 = nn.Linear(84, 10)\n",
        "\n",
        "    def forward(self, x):\n",
        "        x = self.pool(F.relu(self.conv1(x)))\n",
        "        x = self.pool(F.relu(self.conv2(x)))\n",
        "        x = x.view(-1, 16 * 5 * 5)\n",
        "        x = F.relu(self.fc1(x))\n",
        "        x = F.relu(self.fc2(x))\n",
        "        x = self.fc3(x)\n",
        "        return x\n",
        "\n",
        "\n",
        "net = Net()\n",
        "print(net)"
      ],
      "execution_count": 40,
      "outputs": [
        {
          "output_type": "stream",
          "text": [
            "Net(\n",
            "  (conv1): Conv2d(3, 6, kernel_size=(5, 5), stride=(1, 1))\n",
            "  (pool): MaxPool2d(kernel_size=2, stride=2, padding=0, dilation=1, ceil_mode=False)\n",
            "  (conv2): Conv2d(6, 16, kernel_size=(5, 5), stride=(1, 1))\n",
            "  (fc1): Linear(in_features=400, out_features=120, bias=True)\n",
            "  (fc2): Linear(in_features=120, out_features=84, bias=True)\n",
            "  (fc3): Linear(in_features=84, out_features=10, bias=True)\n",
            ")\n"
          ],
          "name": "stdout"
        }
      ]
    },
    {
      "cell_type": "markdown",
      "metadata": {
        "id": "4FffAuyrfWQx",
        "colab_type": "text"
      },
      "source": [
        "Let's compile the model and test it again."
      ]
    },
    {
      "cell_type": "code",
      "metadata": {
        "id": "mfuSe7CHfWQx",
        "colab_type": "code",
        "colab": {
          "base_uri": "https://localhost:8080/",
          "height": 1000
        },
        "outputId": "9096e6d7-542c-4a6e-a884-8b4996164607"
      },
      "source": [
        "\n",
        "criterion = nn.CrossEntropyLoss()\n",
        "optimizer = optim.SGD(net.parameters(), lr=0.001, momentum=0.9)\n",
        "\n",
        "for epoch in range(30):  # loop over the dataset multiple times\n",
        "\n",
        "    running_loss = 0.0\n",
        "    for i, data in enumerate(trainloader, 0):\n",
        "        # get the inputs; data is a list of [inputs, labels]\n",
        "        inputs, labels = data\n",
        "\n",
        "        # zero the parameter gradients\n",
        "        optimizer.zero_grad()\n",
        "\n",
        "        # forward + backward + optimize\n",
        "        outputs = net(inputs)\n",
        "        loss = criterion(outputs, labels)\n",
        "        loss.backward()\n",
        "        optimizer.step()\n",
        "\n",
        "        # print statistics\n",
        "        running_loss += loss.item()\n",
        "        if i % 128 == 127:    # print every 2000 mini-batches\n",
        "            print('[%d, %5d] loss: %.3f' %\n",
        "                  (epoch + 1, i + 1, running_loss / 128))\n",
        "            running_loss = 0.0\n",
        "\n",
        "print('Finished Training')\n"
      ],
      "execution_count": 46,
      "outputs": [
        {
          "output_type": "stream",
          "text": [
            "[1,   128] loss: 2.164\n",
            "[1,   256] loss: 2.136\n",
            "[1,   384] loss: 2.105\n",
            "[2,   128] loss: 2.066\n",
            "[2,   256] loss: 2.026\n",
            "[2,   384] loss: 1.993\n",
            "[3,   128] loss: 1.966\n",
            "[3,   256] loss: 1.936\n",
            "[3,   384] loss: 1.898\n",
            "[4,   128] loss: 1.866\n",
            "[4,   256] loss: 1.838\n",
            "[4,   384] loss: 1.811\n",
            "[5,   128] loss: 1.766\n",
            "[5,   256] loss: 1.747\n",
            "[5,   384] loss: 1.726\n",
            "[6,   128] loss: 1.690\n",
            "[6,   256] loss: 1.664\n",
            "[6,   384] loss: 1.655\n",
            "[7,   128] loss: 1.625\n",
            "[7,   256] loss: 1.612\n",
            "[7,   384] loss: 1.592\n",
            "[8,   128] loss: 1.579\n",
            "[8,   256] loss: 1.568\n",
            "[8,   384] loss: 1.548\n",
            "[9,   128] loss: 1.529\n",
            "[9,   256] loss: 1.522\n",
            "[9,   384] loss: 1.527\n",
            "[10,   128] loss: 1.507\n",
            "[10,   256] loss: 1.486\n",
            "[10,   384] loss: 1.486\n",
            "[11,   128] loss: 1.482\n",
            "[11,   256] loss: 1.462\n",
            "[11,   384] loss: 1.453\n",
            "[12,   128] loss: 1.433\n",
            "[12,   256] loss: 1.438\n",
            "[12,   384] loss: 1.429\n",
            "[13,   128] loss: 1.404\n",
            "[13,   256] loss: 1.402\n",
            "[13,   384] loss: 1.401\n",
            "[14,   128] loss: 1.388\n",
            "[14,   256] loss: 1.366\n",
            "[14,   384] loss: 1.380\n",
            "[15,   128] loss: 1.363\n",
            "[15,   256] loss: 1.344\n",
            "[15,   384] loss: 1.361\n",
            "[16,   128] loss: 1.344\n",
            "[16,   256] loss: 1.327\n",
            "[16,   384] loss: 1.332\n",
            "[17,   128] loss: 1.320\n",
            "[17,   256] loss: 1.300\n",
            "[17,   384] loss: 1.324\n",
            "[18,   128] loss: 1.294\n",
            "[18,   256] loss: 1.296\n",
            "[18,   384] loss: 1.295\n",
            "[19,   128] loss: 1.288\n",
            "[19,   256] loss: 1.275\n",
            "[19,   384] loss: 1.282\n",
            "[20,   128] loss: 1.266\n",
            "[20,   256] loss: 1.267\n",
            "[20,   384] loss: 1.252\n",
            "[21,   128] loss: 1.253\n",
            "[21,   256] loss: 1.241\n",
            "[21,   384] loss: 1.234\n",
            "[22,   128] loss: 1.221\n",
            "[22,   256] loss: 1.239\n",
            "[22,   384] loss: 1.223\n",
            "[23,   128] loss: 1.215\n",
            "[23,   256] loss: 1.211\n",
            "[23,   384] loss: 1.206\n",
            "[24,   128] loss: 1.186\n",
            "[24,   256] loss: 1.201\n",
            "[24,   384] loss: 1.203\n",
            "[25,   128] loss: 1.189\n",
            "[25,   256] loss: 1.178\n",
            "[25,   384] loss: 1.180\n",
            "[26,   128] loss: 1.185\n",
            "[26,   256] loss: 1.161\n",
            "[26,   384] loss: 1.174\n",
            "[27,   128] loss: 1.150\n",
            "[27,   256] loss: 1.156\n",
            "[27,   384] loss: 1.159\n",
            "[28,   128] loss: 1.148\n",
            "[28,   256] loss: 1.144\n",
            "[28,   384] loss: 1.141\n",
            "[29,   128] loss: 1.120\n",
            "[29,   256] loss: 1.140\n",
            "[29,   384] loss: 1.118\n",
            "[30,   128] loss: 1.120\n",
            "[30,   256] loss: 1.123\n",
            "[30,   384] loss: 1.124\n",
            "Finished Training\n"
          ],
          "name": "stdout"
        }
      ]
    },
    {
      "cell_type": "markdown",
      "metadata": {
        "id": "TMv76B48fWQ1",
        "colab_type": "text"
      },
      "source": [
        "Let's evaluate the model again."
      ]
    },
    {
      "cell_type": "code",
      "metadata": {
        "id": "NgKzhIIOfWQ1",
        "colab_type": "code",
        "colab": {
          "base_uri": "https://localhost:8080/",
          "height": 35
        },
        "outputId": "e7abf6a2-9319-4b21-8d9a-1cd4d5597ed5"
      },
      "source": [
        "correct = 0\n",
        "total = 0\n",
        "with torch.no_grad():\n",
        "    for data in testloader:\n",
        "        images, labels = data\n",
        "        outputs = net(images)\n",
        "        _, predicted = torch.max(outputs.data, 1)\n",
        "        total += labels.size(0)\n",
        "        correct += (predicted == labels).sum().item()\n",
        "\n",
        "print('Accuracy of the network on the 10000 test images: %d %%' % (\n",
        "    100 * correct / total))"
      ],
      "execution_count": 48,
      "outputs": [
        {
          "output_type": "stream",
          "text": [
            "Accuracy of the network on the 10000 test images: 58 %\n"
          ],
          "name": "stdout"
        }
      ]
    },
    {
      "cell_type": "markdown",
      "metadata": {
        "id": "kOah5GZ3fWQ3",
        "colab_type": "text"
      },
      "source": [
        "58% accuracy is a big improvement on practically nothing! All of that is accomplished in just 2 epochs using convolutional layers and ReLUs. \n",
        "\n",
        "Let's try to make the network bigger."
      ]
    },
    {
      "cell_type": "markdown",
      "metadata": {
        "id": "lkDH4GhmfWQ9",
        "colab_type": "text"
      },
      "source": [
        "One problem you might notice is that the accuracy of the model is much better on the training set than on the test set. You can see that by monitoring the progress at the end of each epoch above or by evaluating it directly."
      ]
    },
    {
      "cell_type": "markdown",
      "metadata": {
        "id": "Q4KJd9DafWQ_",
        "colab_type": "text"
      },
      "source": [
        "This is a symptom of \"overfitting\".  Our model has probably tried to bend itself a little too well towards predicting the training set but does not generalize very well to unseen data. This is a very common problem. \n",
        "\n",
        "It's normal for the training accuracy to be better than the testng accuracy to some degree, because it's hard to avoid for the network to be better at predicting the data it sees. But a 9% difference is too much.\n",
        "\n",
        "One way of helping this is by doing some regularization. We can add dropout to our model after a few layers.\n",
        "\n",
        "All this is arguably most essential, albeit timeconsuming, part of designing a neural network: Editting hyperparamenters."
      ]
    },
    {
      "cell_type": "markdown",
      "metadata": {
        "id": "1Be7qE7UfWRC",
        "colab_type": "text"
      },
      "source": [
        "We compile and train again."
      ]
    },
    {
      "cell_type": "markdown",
      "metadata": {
        "id": "JkCb3E_QfWRF",
        "colab_type": "text"
      },
      "source": [
        "Training accuracy will likely lower but our test accuracy will increase.  This is more like what we expect."
      ]
    },
    {
      "cell_type": "markdown",
      "metadata": {
        "id": "krWf3QT8fWRH",
        "colab_type": "text"
      },
      "source": [
        "Another way of improving performance is to experiment with different optimizers beyond just standard sgd. Let's try to instantiate the same network but use ADAM instead of sgd."
      ]
    },
    {
      "cell_type": "code",
      "metadata": {
        "id": "baM0F0gsfWRI",
        "colab_type": "code",
        "colab": {
          "base_uri": "https://localhost:8080/",
          "height": 289
        },
        "outputId": "fcec82cc-568a-4327-e6cd-c6142f9486dd"
      },
      "source": [
        "\n",
        "criterion = nn.CrossEntropyLoss()\n",
        "optimizer = optim.Adam(net.parameters(), lr=0.001)\n",
        "\n",
        "for epoch in range(5):  # loop over the dataset multiple times\n",
        "\n",
        "    running_loss = 0.0\n",
        "    for i, data in enumerate(trainloader, 0):\n",
        "        # get the inputs; data is a list of [inputs, labels]\n",
        "        inputs, labels = data\n",
        "\n",
        "        # zero the parameter gradients\n",
        "        optimizer.zero_grad()\n",
        "\n",
        "        # forward + backward + optimize\n",
        "        outputs = net(inputs)\n",
        "        loss = criterion(outputs, labels)\n",
        "        loss.backward()\n",
        "        optimizer.step()\n",
        "\n",
        "        # print statistics\n",
        "        running_loss += loss.item()\n",
        "        if i % 128 == 127:    # print every 2000 mini-batches\n",
        "            print('[%d, %5d] loss: %.3f' %\n",
        "                  (epoch + 1, i + 1, running_loss / 128))\n",
        "            running_loss = 0.0\n",
        "\n",
        "print('Finished Training')"
      ],
      "execution_count": 51,
      "outputs": [
        {
          "output_type": "stream",
          "text": [
            "[1,   128] loss: 1.208\n",
            "[1,   256] loss: 1.194\n",
            "[1,   384] loss: 1.181\n",
            "[2,   128] loss: 1.137\n",
            "[2,   256] loss: 1.143\n",
            "[2,   384] loss: 1.130\n",
            "[3,   128] loss: 1.093\n",
            "[3,   256] loss: 1.081\n",
            "[3,   384] loss: 1.093\n",
            "[4,   128] loss: 1.053\n",
            "[4,   256] loss: 1.049\n",
            "[4,   384] loss: 1.058\n",
            "[5,   128] loss: 1.002\n",
            "[5,   256] loss: 1.009\n",
            "[5,   384] loss: 1.008\n",
            "Finished Training\n"
          ],
          "name": "stdout"
        }
      ]
    },
    {
      "cell_type": "code",
      "metadata": {
        "id": "1XR3cDVXfWRJ",
        "colab_type": "code",
        "colab": {
          "base_uri": "https://localhost:8080/",
          "height": 34
        },
        "outputId": "360bf540-3e9c-444c-8f50-7d3ff0a84245"
      },
      "source": [
        "correct = 0\n",
        "total = 0\n",
        "with torch.no_grad():\n",
        "    for data in testloader:\n",
        "        images, labels = data\n",
        "        outputs = net(images)\n",
        "        _, predicted = torch.max(outputs.data, 1)\n",
        "        total += labels.size(0)\n",
        "        correct += (predicted == labels).sum().item()\n",
        "\n",
        "print('Accuracy of the network on the 10000 test images: %d %%' % (\n",
        "    100 * correct / total))\n"
      ],
      "execution_count": 52,
      "outputs": [
        {
          "output_type": "stream",
          "text": [
            "Accuracy of the network on the 10000 test images: 61 %\n"
          ],
          "name": "stdout"
        }
      ]
    },
    {
      "cell_type": "markdown",
      "metadata": {
        "id": "02CppcGwfWRM",
        "colab_type": "text"
      },
      "source": [
        "61% accuracy! Our best yet. Looks heavily overfit though...\n",
        "\n",
        "Still a long way to go to beat the [record](http://rodrigob.github.io/are_we_there_yet/build/classification_datasets_results.html#43494641522d3130) (96%).  We can make a lot of progress by making the network (much) bigger, training for (much) longer and using a lot of little tricks (like data augmentation) but that is beyond the scope of this lesson for now."
      ]
    },
    {
      "cell_type": "markdown",
      "metadata": {
        "id": "8EfQfVcdfWRM",
        "colab_type": "text"
      },
      "source": [
        "Let's also recall how to predict a single value and look at its probabilities."
      ]
    },
    {
      "cell_type": "code",
      "metadata": {
        "id": "wZA3QfKMfWRN",
        "colab_type": "code",
        "colab": {
          "base_uri": "https://localhost:8080/",
          "height": 303
        },
        "outputId": "c384b43b-37ba-499c-f422-acb0c181259a"
      },
      "source": [
        "dataiter = iter(testloader)\n",
        "images, labels = dataiter.next()\n",
        "\n",
        "# print images\n",
        "imshow(torchvision.utils.make_grid(images))\n",
        "print('GroundTruth: ', ' '.join('%5s' % classes[labels[j]] for j in range(4)))\n",
        "\n",
        "_, predicted = torch.max(outputs, 1)\n",
        "\n",
        "print('Predicted: ', ' '.join('%5s' % classes[predicted[j]]\n",
        "                              for j in range(4)))"
      ],
      "execution_count": 59,
      "outputs": [
        {
          "output_type": "display_data",
          "data": {
            "image/png": "[encoded data removed]",
            "text/plain": [
              "<Figure size 432x288 with 1 Axes>"
            ]
          },
          "metadata": {
            "tags": [],
            "needs_background": "light"
          }
        },
        {
          "output_type": "stream",
          "text": [
            "GroundTruth:    cat  ship  ship plane\n",
            "Predicted:  horse   cat   car plane\n"
          ],
          "name": "stdout"
        }
      ]
    },
    {
      "cell_type": "markdown",
      "metadata": {
        "id": "Y0XLTnl1fWRO",
        "colab_type": "text"
      },
      "source": [
        "Let's also review here how to save and load trained PyTorch models. It's easy!"
      ]
    },
    {
      "cell_type": "code",
      "metadata": {
        "id": "BBUZR1xwfWRP",
        "colab_type": "code",
        "colab": {
          "base_uri": "https://localhost:8080/",
          "height": 1000
        },
        "outputId": "85de4260-1e0c-44b4-8291-56980784816b"
      },
      "source": [
        "PATH = './cifar_net.pth'\n",
        "torch.save(net.state_dict(), PATH)\n",
        "\n",
        "torch.load(PATH)"
      ],
      "execution_count": 60,
      "outputs": [
        {
          "output_type": "execute_result",
          "data": {
            "text/plain": [
              "OrderedDict([('conv1.weight',\n",
              "              tensor([[[[ 3.0509e-01,  2.0814e-01,  3.2979e-01,  3.3892e-01,  1.6442e-01],\n",
              "                        [ 9.5876e-02,  2.9394e-01,  4.7162e-01,  2.8927e-01,  1.7721e-01],\n",
              "                        [ 2.3780e-01,  9.4400e-02,  1.0883e-01,  5.1365e-02,  2.0544e-01],\n",
              "                        [-1.0180e-01, -2.1130e-01, -2.0078e-01, -1.9253e-01, -2.0391e-01],\n",
              "                        [-1.4456e-01, -3.8532e-01, -4.2615e-01, -2.9685e-01, -8.8515e-02]],\n",
              "              \n",
              "                       [[ 4.9549e-02,  7.0837e-02,  1.5364e-01, -7.6304e-02, -7.6657e-02],\n",
              "                        [-7.4639e-02, -1.1945e-04, -5.4803e-02,  8.0360e-02, -6.7292e-02],\n",
              "                        [ 5.4153e-02, -1.2175e-01, -9.0888e-02, -1.7714e-01, -3.5051e-02],\n",
              "                        [ 2.8350e-02, -1.2814e-01, -3.8684e-01, -2.0795e-01, -4.1388e-02],\n",
              "                        [-6.3672e-03, -8.3429e-02, -2.0600e-01, -1.5928e-01,  5.0314e-02]],\n",
              "              \n",
              "                       [[ 2.3873e-02, -2.4694e-03, -7.4116e-03,  2.4522e-02, -6.9480e-03],\n",
              "                        [-2.2395e-02, -5.3080e-02, -1.5485e-01, -1.1068e-01, -5.7645e-02],\n",
              "                        [ 1.3041e-01,  1.4000e-01, -1.0173e-01,  2.9654e-02,  1.9332e-02],\n",
              "                        [-2.9968e-03, -5.4851e-02, -4.0104e-02, -6.5923e-02,  3.8635e-03],\n",
              "                        [ 7.2045e-02,  5.3793e-02,  7.4817e-02,  3.4136e-02,  2.4946e-01]]],\n",
              "              \n",
              "              \n",
              "                      [[[ 4.9934e-02,  6.3609e-03,  5.7876e-02, -5.8091e-02,  5.2260e-02],\n",
              "                        [ 6.8208e-02,  3.8513e-02, -1.1387e-02, -6.8521e-02,  2.8695e-02],\n",
              "                        [ 1.0660e-01, -4.3001e-02, -1.1493e-01, -2.8530e-03, -5.2259e-02],\n",
              "                        [ 7.8893e-02,  2.1647e-02, -2.4671e-02, -1.1519e-01, -8.9637e-03],\n",
              "                        [ 8.6100e-02, -1.2296e-01, -1.0547e-01, -4.8966e-03,  9.4875e-02]],\n",
              "              \n",
              "                       [[-1.0611e-01, -1.0808e-01, -1.0154e-01, -8.4747e-02, -4.4740e-02],\n",
              "                        [-4.7849e-02, -4.8139e-02, -1.9495e-01, -7.4683e-02, -1.5779e-01],\n",
              "                        [-1.6993e-01, -2.0816e-01, -2.3474e-01, -1.8935e-01, -3.1400e-02],\n",
              "                        [-1.5579e-01, -3.0881e-01, -1.8812e-01, -1.4075e-01,  4.8423e-02],\n",
              "                        [-1.9045e-01, -2.7178e-01, -2.4290e-01, -1.7265e-01, -1.5710e-01]],\n",
              "              \n",
              "                       [[-6.1189e-04, -3.3293e-02, -6.6642e-02,  6.5130e-02,  3.7288e-02],\n",
              "                        [ 1.3191e-01,  2.5064e-02, -1.2007e-01,  1.3775e-02,  2.6091e-02],\n",
              "                        [ 1.0334e-01, -9.0169e-02,  2.3444e-02, -5.6914e-02,  4.7968e-02],\n",
              "                        [ 6.8269e-02,  4.3241e-02, -1.5598e-01,  4.9054e-02,  6.6774e-03],\n",
              "                        [ 1.9685e-01, -1.4593e-02, -1.4521e-01,  3.7944e-02,  2.7897e-02]]],\n",
              "              \n",
              "              \n",
              "                      [[[-4.4429e-02, -1.3691e-01, -1.4779e-01,  3.3552e-02, -1.5410e-01],\n",
              "                        [-1.9639e-01, -5.5629e-02, -5.1093e-02, -1.3431e-01, -9.2629e-02],\n",
              "                        [-1.3461e-01, -9.9493e-02, -2.6277e-01, -1.1671e-01, -1.3153e-01],\n",
              "                        [-1.2101e-01, -1.8839e-01, -1.0376e-01, -1.8166e-01, -5.4622e-02],\n",
              "                        [-2.8251e-02, -3.7231e-02, -4.3679e-02, -1.1741e-01, -3.5478e-02]],\n",
              "              \n",
              "                       [[-1.3358e-02,  7.9791e-02, -8.7392e-02, -1.2948e-01, -8.9150e-03],\n",
              "                        [ 5.2296e-02, -7.0046e-02, -7.8719e-02,  6.3181e-02, -1.0892e-01],\n",
              "                        [-8.2982e-02,  3.5851e-02,  6.2056e-02, -2.6861e-02, -2.0069e-02],\n",
              "                        [-4.5371e-03,  2.1347e-02, -7.1766e-02, -5.9338e-02, -7.8198e-03],\n",
              "                        [-6.7770e-02,  3.2012e-02, -5.2742e-02, -8.8929e-03, -9.3557e-02]],\n",
              "              \n",
              "                       [[ 1.0018e-01,  1.1183e-01,  2.2625e-01,  1.5113e-01,  1.2761e-01],\n",
              "                        [ 1.6776e-01,  1.6399e-01,  2.2816e-01,  1.5421e-01,  1.7568e-01],\n",
              "                        [ 2.4159e-01,  2.1774e-01,  2.5391e-01,  2.3386e-01,  1.0384e-01],\n",
              "                        [ 1.2985e-01,  1.5155e-01,  2.8150e-01,  2.6893e-01,  7.3418e-02],\n",
              "                        [-4.1977e-02,  1.2272e-01,  7.0557e-02,  2.2328e-01,  7.2212e-02]]],\n",
              "              \n",
              "              \n",
              "                      [[[ 4.6571e-02, -1.7997e-01,  1.1244e-02,  1.7434e-01,  1.1170e-02],\n",
              "                        [-7.6939e-02, -2.4909e-01,  1.7061e-01,  1.6502e-01, -8.2773e-02],\n",
              "                        [-3.0998e-01, -1.5707e-01,  2.1309e-01,  3.2278e-01, -7.6569e-02],\n",
              "                        [-2.1723e-01, -5.0326e-02,  2.2261e-01,  1.3293e-01, -8.8110e-02],\n",
              "                        [-6.6178e-02, -8.9841e-02,  2.0581e-01,  1.0853e-01, -1.7029e-01]],\n",
              "              \n",
              "                       [[-2.5686e-02, -2.5272e-01,  1.9549e-02,  1.6451e-01, -8.6187e-02],\n",
              "                        [-2.1398e-01, -1.5395e-01,  5.4980e-02,  1.9542e-01, -8.8414e-02],\n",
              "                        [-3.3467e-01, -2.3318e-01,  2.9180e-01,  1.9531e-01, -1.0031e-01],\n",
              "                        [-3.1902e-01, -2.0909e-01,  2.7493e-01,  2.2272e-01, -1.4423e-01],\n",
              "                        [-7.1644e-02, -2.9722e-02,  1.5250e-01,  1.7337e-01, -1.8776e-01]],\n",
              "              \n",
              "                       [[-9.5015e-02, -1.9712e-01,  1.2720e-01,  2.7469e-01, -6.7114e-02],\n",
              "                        [-2.6066e-01, -2.4480e-01,  2.5064e-01,  2.8410e-01, -4.2737e-02],\n",
              "                        [-2.5013e-01, -2.3422e-01,  2.9655e-01,  3.0445e-01, -9.8296e-02],\n",
              "                        [-1.1621e-01,  3.1576e-03,  3.1170e-01,  3.4492e-01, -1.7008e-01],\n",
              "                        [-1.3391e-01,  2.8295e-02,  2.6951e-01,  2.1943e-01, -1.0641e-01]]],\n",
              "              \n",
              "              \n",
              "                      [[[-1.2915e-01, -5.1816e-02,  2.5699e-02,  1.4647e-01,  1.4782e-01],\n",
              "                        [-2.3076e-02,  6.6373e-02,  1.7591e-01,  6.6110e-02,  1.1547e-01],\n",
              "                        [ 1.0396e-01,  2.2430e-01,  1.9628e-01,  1.8688e-01,  4.6249e-02],\n",
              "                        [ 8.8889e-02,  1.3804e-01,  1.6688e-01,  6.5077e-02,  1.0273e-01],\n",
              "                        [ 6.9582e-02,  1.8614e-01,  1.3886e-01,  3.5949e-02,  3.8540e-02]],\n",
              "              \n",
              "                       [[-8.5666e-02, -1.8715e-01, -6.4667e-02, -6.5120e-02, -3.4257e-02],\n",
              "                        [-3.1372e-02, -5.1333e-03,  8.4893e-02,  2.5352e-02,  2.2181e-02],\n",
              "                        [ 2.9699e-02, -9.4498e-03,  9.9104e-04,  2.5409e-02, -6.8412e-02],\n",
              "                        [ 1.0702e-02, -7.4560e-02, -5.0158e-02, -1.2323e-01, -7.8524e-02],\n",
              "                        [ 7.2349e-03, -1.4218e-01, -1.7074e-02, -2.6152e-02, -1.4697e-01]],\n",
              "              \n",
              "                       [[-1.7286e-01,  3.6955e-02, -7.9092e-04,  1.9703e-01,  1.1442e-01],\n",
              "                        [ 5.1474e-02,  1.1972e-01,  9.6036e-02,  1.2801e-01,  1.5962e-01],\n",
              "                        [ 6.3041e-02,  1.3917e-01,  1.5955e-01,  1.1912e-01,  7.6241e-02],\n",
              "                        [ 5.1524e-02,  8.5230e-02,  7.7420e-02,  1.4141e-02,  1.2402e-01],\n",
              "                        [ 4.7779e-02,  3.6156e-02, -1.6832e-03, -6.4389e-02,  7.9497e-02]]],\n",
              "              \n",
              "              \n",
              "                      [[[-1.3944e-01, -2.5775e-01, -3.0278e-01, -1.5319e-01, -1.8094e-01],\n",
              "                        [-1.1104e-01, -1.3124e-01,  1.0645e-01, -1.2230e-02, -6.5652e-02],\n",
              "                        [-1.1460e-01,  2.4565e-01,  2.4838e-01,  1.1646e-01, -1.2241e-01],\n",
              "                        [-8.9802e-04, -9.6562e-02, -2.7124e-01, -1.5354e-01, -1.8534e-01],\n",
              "                        [ 1.6525e-01,  2.8867e-02,  7.3254e-02,  3.0523e-02,  1.4475e-01]],\n",
              "              \n",
              "                       [[ 3.7741e-02, -7.5645e-02, -1.0271e-01, -3.6924e-02,  1.0028e-01],\n",
              "                        [ 3.0135e-02,  4.5688e-02,  2.4047e-01,  1.4845e-01,  2.1700e-01],\n",
              "                        [ 1.6228e-01,  3.2045e-01,  3.5465e-01,  2.0414e-01,  2.6184e-02],\n",
              "                        [-2.4115e-01, -9.4243e-02, -1.3962e-01, -2.1019e-01, -6.9063e-02],\n",
              "                        [-4.8696e-02, -1.8717e-01, -1.6172e-01, -7.1573e-02, -4.5221e-02]],\n",
              "              \n",
              "                       [[-5.6810e-02, -1.4351e-01, -2.2026e-01, -2.0862e-01, -1.3349e-01],\n",
              "                        [-5.3276e-02,  1.6301e-01,  2.6894e-01,  1.2941e-01,  1.4733e-01],\n",
              "                        [ 1.7356e-01,  3.1329e-01,  2.9059e-01,  3.3677e-01,  1.7912e-01],\n",
              "                        [-5.3580e-02, -5.9760e-02, -1.1331e-01, -1.2715e-01, -1.1800e-01],\n",
              "                        [ 8.0331e-02, -1.1457e-01, -1.9242e-01, -1.2501e-01,  2.3444e-01]]]])),\n",
              "             ('conv1.bias',\n",
              "              tensor([-0.1171, -0.0341,  0.8626,  0.1829,  0.1416,  0.3450])),\n",
              "             ('conv2.weight',\n",
              "              tensor([[[[-7.0532e-03, -3.0908e-02, -4.4016e-02, -7.4454e-02, -2.2589e-02],\n",
              "                        [-7.1764e-02, -2.4472e-02, -1.3898e-01, -1.1152e-01,  1.0310e-02],\n",
              "                        [ 3.9883e-02, -6.8597e-02,  2.4232e-02, -5.9948e-02, -1.1446e-01],\n",
              "                        [-4.0011e-02,  1.2171e-01,  4.1620e-02, -4.0763e-02, -1.9588e-01],\n",
              "                        [ 2.1072e-02, -1.3927e-02,  1.0777e-01,  7.1300e-02, -7.7200e-02]],\n",
              "              \n",
              "                       [[-1.3083e-01,  2.3002e-02,  6.6138e-02,  2.5201e-02, -4.4069e-02],\n",
              "                        [ 6.0057e-02, -3.4471e-02,  3.6184e-02, -3.4991e-02, -2.7372e-02],\n",
              "                        [ 1.1204e-01,  9.8638e-03, -1.5928e-01,  3.1374e-02,  4.6322e-02],\n",
              "                        [ 1.3160e-01, -2.5313e-02, -1.0045e-01, -1.2820e-01,  2.6110e-02],\n",
              "                        [ 1.6082e-02,  8.7254e-02,  1.1093e-01,  1.3179e-03, -1.6883e-02]],\n",
              "              \n",
              "                       [[ 1.2685e-02, -2.0154e-02, -7.8347e-02, -7.3011e-03, -2.7814e-02],\n",
              "                        [ 1.5672e-01, -4.1523e-03,  4.8166e-02, -1.3678e-01, -3.7960e-02],\n",
              "                        [ 2.7376e-01,  1.2399e-01, -1.2078e-01, -2.2639e-01, -1.1186e-01],\n",
              "                        [ 2.8612e-01,  1.1822e-01, -1.6460e-01, -1.5902e-01, -2.0611e-01],\n",
              "                        [ 2.5100e-01,  9.8329e-02, -1.4340e-01, -9.9825e-02, -1.6146e-01]],\n",
              "              \n",
              "                       [[-4.9737e-02, -5.3825e-02,  7.0275e-03,  8.9979e-02, -1.0787e-02],\n",
              "                        [ 2.8976e-02, -2.2992e-02, -7.9550e-02, -8.3097e-03,  5.3917e-02],\n",
              "                        [ 1.0289e-01,  1.0869e-01,  6.6329e-02, -3.9439e-02, -2.0917e-02],\n",
              "                        [ 2.6044e-02,  9.4152e-02,  5.1951e-02,  3.0870e-02,  5.8025e-02],\n",
              "                        [ 4.3547e-02,  1.0919e-02,  6.0482e-02,  3.4305e-02, -4.3853e-02]],\n",
              "              \n",
              "                       [[ 4.9394e-02, -2.4630e-04,  6.3268e-02, -3.5422e-02, -1.0851e-02],\n",
              "                        [ 2.5839e-02,  4.3683e-02, -4.9206e-02, -1.1796e-02,  4.1204e-02],\n",
              "                        [ 1.0818e-01,  3.6631e-02, -4.6129e-02, -1.2776e-01,  7.9415e-03],\n",
              "                        [-1.6183e-02,  1.0536e-01,  2.1249e-02, -8.7787e-02, -1.6252e-02],\n",
              "                        [-3.9682e-02,  7.1758e-03, -2.3737e-02,  5.4862e-02, -1.5968e-02]],\n",
              "              \n",
              "                       [[-6.8930e-02,  5.6622e-02, -7.6980e-02, -8.1881e-02, -1.0738e-02],\n",
              "                        [-6.5218e-02, -5.8634e-02, -4.9686e-02, -3.1863e-02, -1.3069e-01],\n",
              "                        [ 2.5935e-02,  4.4458e-03, -6.3346e-02, -1.2367e-01,  2.4378e-02],\n",
              "                        [ 1.0269e-01, -3.7958e-02, -4.4422e-02,  1.2465e-02, -5.3318e-02],\n",
              "                        [ 1.5121e-01, -4.6922e-02, -1.3257e-02, -6.8430e-02, -2.9653e-02]]],\n",
              "              \n",
              "              \n",
              "                      [[[-9.6699e-02, -2.9854e-02,  3.5002e-02,  1.0841e-01,  1.8106e-01],\n",
              "                        [ 6.0055e-02,  5.0270e-02, -1.2778e-01,  2.1131e-02,  2.2472e-02],\n",
              "                        [ 3.4993e-04, -2.2318e-01,  1.6658e-02,  1.8801e-01, -4.8926e-02],\n",
              "                        [-1.3480e-01,  1.2739e-01,  1.8906e-01,  7.1352e-02, -1.7674e-01],\n",
              "                        [ 1.7735e-01,  3.7455e-02, -1.9932e-01, -2.1926e-01, -5.1447e-02]],\n",
              "              \n",
              "                       [[-7.7076e-02, -3.2122e-02, -4.4127e-02, -1.0236e-01,  7.6754e-02],\n",
              "                        [-4.9244e-02, -8.1651e-02, -7.8984e-02,  1.9248e-02, -1.8175e-02],\n",
              "                        [-8.1146e-02, -1.0979e-01, -5.2963e-02,  1.3657e-01,  1.2844e-01],\n",
              "                        [-9.8060e-02,  4.6928e-02,  1.5709e-01,  4.1016e-02,  3.0330e-02],\n",
              "                        [ 3.3773e-02,  9.5439e-02, -3.5784e-02, -8.7480e-02, -2.0975e-01]],\n",
              "              \n",
              "                       [[-1.1145e-01, -7.8050e-02, -8.6527e-02,  4.1896e-02,  3.9809e-02],\n",
              "                        [-8.8817e-02, -3.0354e-02,  4.7520e-02,  5.8108e-02, -7.6928e-02],\n",
              "                        [-7.1563e-02,  1.6536e-02, -7.6172e-02, -4.7378e-02, -1.4639e-01],\n",
              "                        [-1.6127e-02,  4.1718e-02, -3.5366e-02, -1.0616e-01,  2.7124e-03],\n",
              "                        [-8.2353e-02,  6.1273e-02, -3.6854e-02,  6.4609e-02,  9.1103e-02]],\n",
              "              \n",
              "                       [[ 1.5221e-01,  7.7096e-02,  5.3518e-02,  7.7107e-02,  4.8665e-02],\n",
              "                        [-2.4544e-02,  6.0480e-03,  5.8142e-02,  1.5908e-01, -1.0608e-01],\n",
              "                        [-2.9524e-02,  2.8962e-02,  1.0246e-01, -2.2450e-01, -4.5390e-02],\n",
              "                        [-2.0753e-02, -1.9876e-02, -2.3398e-01, -1.2778e-01,  7.1966e-02],\n",
              "                        [-1.4982e-01, -1.9739e-01, -1.0331e-02,  1.3467e-01,  8.8580e-02]],\n",
              "              \n",
              "                       [[-7.7725e-03, -1.1399e-02,  2.0007e-02, -6.4627e-02,  4.7153e-02],\n",
              "                        [-8.2514e-02,  1.7547e-02, -2.2635e-03,  9.2488e-02, -8.8969e-03],\n",
              "                        [ 4.0317e-02, -6.9955e-02,  6.8247e-02,  6.3912e-02, -9.7405e-02],\n",
              "                        [ 2.4538e-02,  6.0926e-03,  4.3470e-03, -1.1548e-02, -5.2356e-02],\n",
              "                        [ 7.3075e-02, -8.5443e-02, -4.5227e-02, -6.5737e-03,  1.4074e-01]],\n",
              "              \n",
              "                       [[ 6.3795e-02,  1.1222e-01,  4.7222e-02, -8.4122e-02,  6.2858e-02],\n",
              "                        [ 1.1519e-01,  5.9985e-02, -5.1955e-02,  8.2566e-02,  8.5713e-02],\n",
              "                        [-1.0491e-01, -1.6944e-03,  2.4590e-01,  1.4320e-01,  1.6471e-02],\n",
              "                        [ 1.1052e-01,  2.6128e-01,  1.6933e-01, -8.8279e-02,  6.2060e-02],\n",
              "                        [ 1.7564e-01,  4.4380e-02, -6.2137e-02,  1.3148e-02,  6.7607e-02]]],\n",
              "              \n",
              "              \n",
              "                      [[[ 4.1689e-03,  4.0681e-02, -2.2920e-02, -4.1075e-02, -4.1410e-02],\n",
              "                        [ 6.8201e-02,  6.2459e-02,  1.1042e-01, -1.6768e-02, -1.9833e-02],\n",
              "                        [ 8.8161e-02,  5.6237e-02,  5.8438e-02, -5.4811e-02,  3.2826e-02],\n",
              "                        [ 1.1429e-02,  8.7878e-02,  5.2378e-02, -2.3563e-02,  7.5215e-02],\n",
              "                        [-7.2083e-03, -9.6537e-02, -6.9664e-02, -3.3978e-02,  1.0538e-02]],\n",
              "              \n",
              "                       [[-7.0612e-02, -2.7729e-02, -4.9813e-02, -5.8662e-02,  1.0673e-01],\n",
              "                        [-4.7898e-02, -1.3867e-01, -4.8491e-02,  2.9934e-02,  5.7001e-02],\n",
              "                        [-5.7120e-02, -8.2892e-02, -5.1770e-02,  6.5576e-02,  1.0405e-01],\n",
              "                        [ 2.4217e-02, -4.8509e-02,  6.1536e-02, -2.6020e-03,  1.2718e-01],\n",
              "                        [ 7.3187e-02,  6.2957e-02,  2.0934e-02,  1.5592e-01,  1.2665e-01]],\n",
              "              \n",
              "                       [[ 1.0964e-02, -5.5371e-02, -8.0521e-02, -2.9901e-02, -3.7097e-02],\n",
              "                        [ 1.5518e-02, -5.1586e-02,  8.8339e-02,  4.9904e-02,  9.1052e-02],\n",
              "                        [ 5.5530e-02, -2.6097e-02,  2.9272e-02,  3.1270e-04,  1.1914e-01],\n",
              "                        [ 3.1257e-02,  6.0631e-02,  8.1018e-02,  8.4861e-02,  5.3640e-03],\n",
              "                        [-8.4989e-02,  5.1370e-02,  9.2934e-02,  9.7147e-03,  4.3398e-02]],\n",
              "              \n",
              "                       [[ 9.1761e-02,  1.4550e-01,  6.5604e-02,  4.4185e-02,  9.4633e-02],\n",
              "                        [-2.9947e-02,  1.4174e-02,  5.1921e-02, -6.3236e-02,  6.7487e-02],\n",
              "                        [-7.7929e-03, -1.3611e-01, -1.4518e-01, -7.3898e-02,  1.2062e-02],\n",
              "                        [-1.2583e-01, -9.3003e-02, -1.3771e-01, -1.9763e-01, -1.9873e-02],\n",
              "                        [-5.9232e-02, -1.3495e-01, -1.8820e-01, -7.0217e-02, -5.1558e-02]],\n",
              "              \n",
              "                       [[ 7.2504e-02,  5.4293e-02,  7.8227e-02,  7.7367e-02,  8.6041e-02],\n",
              "                        [ 6.3391e-02,  1.4469e-01,  7.1169e-02, -1.8803e-02,  5.0458e-02],\n",
              "                        [ 6.1713e-02,  1.2028e-01,  8.4959e-02, -6.8437e-03, -5.3836e-03],\n",
              "                        [-6.5023e-02,  4.8183e-02,  1.1923e-01, -9.0955e-02, -8.6066e-02],\n",
              "                        [-6.2561e-02,  7.2494e-03, -4.9391e-02, -1.1289e-01, -1.6434e-01]],\n",
              "              \n",
              "                       [[ 1.5542e-02,  2.1386e-02,  1.9482e-03, -9.8543e-02, -3.1575e-02],\n",
              "                        [ 4.7133e-02, -4.4365e-02, -1.2435e-01, -1.3575e-01, -4.5920e-02],\n",
              "                        [-9.3745e-02, -8.8773e-02, -1.0526e-01, -2.7238e-02, -1.1383e-01],\n",
              "                        [-1.0447e-01, -9.0887e-02, -1.3993e-01, -9.0441e-02, -1.0825e-02],\n",
              "                        [-4.0095e-02, -8.4638e-02, -1.1106e-01, -6.8672e-02, -1.3581e-02]]],\n",
              "              \n",
              "              \n",
              "                      ...,\n",
              "              \n",
              "              \n",
              "                      [[[ 3.4480e-02,  1.1476e-01,  7.8494e-02,  1.4081e-02,  6.8137e-02],\n",
              "                        [ 3.6543e-03,  9.7486e-02,  7.6261e-02,  1.2217e-01,  1.2980e-01],\n",
              "                        [-6.9317e-02,  7.7959e-02, -1.4629e-02,  5.6138e-02, -9.1872e-03],\n",
              "                        [-1.5658e-01,  4.3192e-02, -2.2149e-02, -5.7354e-02, -2.3362e-02],\n",
              "                        [-8.9639e-02, -5.4891e-02, -2.6232e-02, -9.4862e-02, -2.3124e-02]],\n",
              "              \n",
              "                       [[ 1.1314e-01,  3.7130e-02,  1.1904e-01,  1.0546e-01, -8.0748e-02],\n",
              "                        [ 3.7123e-02, -4.2873e-02,  1.0711e-01,  3.2385e-02, -4.9837e-02],\n",
              "                        [ 1.9111e-02, -2.0541e-02, -5.0887e-02,  8.7304e-03, -3.8960e-02],\n",
              "                        [ 4.7599e-02, -8.2462e-02,  5.2721e-02, -2.7768e-02, -6.4810e-02],\n",
              "                        [-2.3436e-02,  2.4451e-02,  2.9297e-02,  8.7050e-02, -7.5700e-02]],\n",
              "              \n",
              "                       [[-4.9385e-02, -6.6564e-04, -1.2203e-01,  2.0128e-02, -1.1414e-01],\n",
              "                        [ 2.7543e-02, -2.1315e-02,  3.1683e-02,  4.5928e-03, -5.2693e-02],\n",
              "                        [-3.5191e-02,  5.4570e-02,  8.0143e-02,  1.0518e-01, -3.0400e-02],\n",
              "                        [-4.2402e-02,  5.0059e-02, -2.3230e-02, -1.2752e-02,  9.2387e-02],\n",
              "                        [-3.3941e-02, -2.5940e-02,  1.3373e-02,  9.3970e-02,  5.1853e-02]],\n",
              "              \n",
              "                       [[ 7.2729e-02, -8.6797e-02,  3.8249e-02, -8.5850e-02, -5.3615e-02],\n",
              "                        [ 1.5921e-01, -1.0361e-01,  5.2972e-02,  9.9687e-03, -1.1097e-01],\n",
              "                        [ 2.6055e-01, -1.1993e-01,  1.1158e-01,  1.0492e-01,  6.3298e-02],\n",
              "                        [ 2.2361e-01, -1.9220e-01,  9.5116e-02,  7.2401e-02,  2.7833e-03],\n",
              "                        [ 1.8664e-01, -2.3412e-01,  5.7024e-02, -4.0609e-02,  3.0401e-02]],\n",
              "              \n",
              "                       [[ 8.4069e-02,  1.0176e-01,  3.5456e-03,  2.4953e-02, -3.0280e-02],\n",
              "                        [ 7.6463e-02, -1.6856e-02,  4.5866e-02,  5.1400e-02,  2.5808e-02],\n",
              "                        [ 7.9198e-02, -3.6349e-02,  1.8113e-02,  4.3367e-02, -8.0430e-02],\n",
              "                        [ 2.5842e-02,  6.3630e-02, -1.1232e-02, -7.6034e-02, -6.0457e-02],\n",
              "                        [-2.7783e-02,  4.5687e-02,  8.2544e-03, -1.0566e-01,  1.1838e-02]],\n",
              "              \n",
              "                       [[-2.5357e-01, -2.5376e-01, -2.6826e-01, -2.0777e-01, -1.6374e-01],\n",
              "                        [-8.2007e-02, -6.5887e-02, -1.6465e-01, -1.3859e-01, -6.0947e-02],\n",
              "                        [-1.1206e-01, -7.8599e-02, -2.9724e-02, -1.0489e-01, -4.8109e-02],\n",
              "                        [-3.8415e-02,  2.6194e-02,  4.8139e-03,  8.2323e-02, -2.1934e-02],\n",
              "                        [-8.5588e-02,  4.5442e-02,  4.5780e-03, -2.4870e-02, -2.3662e-02]]],\n",
              "              \n",
              "              \n",
              "                      [[[ 1.4316e-01,  1.1059e-01, -5.4321e-02, -7.2814e-02, -1.4899e-01],\n",
              "                        [ 1.2391e-01,  1.2115e-02, -6.2742e-02, -1.4786e-01, -1.8742e-01],\n",
              "                        [ 8.2715e-02, -3.2969e-02, -7.5668e-02, -8.8096e-02, -9.8586e-02],\n",
              "                        [-2.2989e-03, -3.4648e-02, -2.0352e-02, -5.9942e-02, -4.7426e-02],\n",
              "                        [ 3.8358e-02, -2.0606e-02, -1.9544e-02,  1.7029e-02, -2.5468e-02]],\n",
              "              \n",
              "                       [[ 3.1772e-02, -4.6132e-02, -1.5565e-02, -5.5553e-02, -2.2879e-02],\n",
              "                        [ 2.1730e-01, -2.3439e-02, -9.6621e-02, -5.5715e-02, -7.7215e-02],\n",
              "                        [ 2.1117e-01,  6.8728e-02,  1.3735e-03, -1.8355e-01, -1.8995e-01],\n",
              "                        [ 1.4250e-01,  2.3498e-02, -3.8187e-02, -1.1140e-01, -1.6345e-01],\n",
              "                        [ 1.6776e-01,  9.6640e-03,  4.5389e-02, -1.3549e-02, -2.3378e-02]],\n",
              "              \n",
              "                       [[-4.5616e-02, -8.0585e-02, -6.8253e-02, -7.8363e-02,  8.7177e-03],\n",
              "                        [-1.9282e-01, -7.5110e-02, -1.3158e-03,  4.2750e-02,  5.1020e-02],\n",
              "                        [-2.6609e-01, -2.4663e-01, -9.1028e-03,  1.6206e-01,  2.3114e-01],\n",
              "                        [-1.1932e-01, -8.7033e-02, -4.5156e-02,  1.6892e-01,  2.3431e-01],\n",
              "                        [-1.1721e-01, -2.1508e-02,  1.9742e-02,  1.9746e-01,  2.8408e-01]],\n",
              "              \n",
              "                       [[-3.5247e-02, -8.2866e-02, -4.6969e-02, -2.7509e-02,  6.8798e-02],\n",
              "                        [-6.4818e-02, -9.3362e-02, -5.5249e-02,  1.2457e-01,  1.0239e-01],\n",
              "                        [-1.0429e-01,  3.0633e-04,  8.0202e-02,  3.5557e-02,  5.6954e-03],\n",
              "                        [ 6.6801e-03, -2.9619e-02,  3.3318e-02,  6.1046e-02,  7.9775e-03],\n",
              "                        [ 7.3290e-02, -4.9805e-02, -3.3510e-02,  3.9698e-02,  6.3102e-02]],\n",
              "              \n",
              "                       [[ 9.5597e-02,  3.5090e-02, -7.8997e-02, -9.6977e-02, -1.0169e-01],\n",
              "                        [-8.5297e-02,  4.7473e-02,  1.3813e-01,  2.3882e-02,  1.7290e-02],\n",
              "                        [-1.7089e-01,  3.0562e-02,  1.3652e-01,  3.8210e-02,  1.7061e-02],\n",
              "                        [-7.8193e-02,  2.8992e-02,  1.1955e-01, -1.6554e-02, -6.3809e-02],\n",
              "                        [-5.2325e-02, -1.1843e-02,  5.2916e-02,  5.1310e-03, -1.5880e-01]],\n",
              "              \n",
              "                       [[ 1.3726e-01,  2.5180e-02, -7.7135e-02, -6.5343e-02, -2.2172e-03],\n",
              "                        [ 2.8375e-02, -5.6640e-05, -1.0428e-01, -4.3897e-02,  6.5964e-03],\n",
              "                        [-1.1613e-01, -1.6475e-01, -7.3368e-02,  3.3692e-02,  1.4451e-02],\n",
              "                        [-5.9743e-02, -1.0913e-01,  5.2604e-02, -7.1982e-02,  9.9780e-02],\n",
              "                        [ 4.9194e-02, -2.3884e-02, -6.8544e-02, -5.5593e-02,  6.7567e-02]]],\n",
              "              \n",
              "              \n",
              "                      [[[ 4.3506e-03,  1.1118e-01, -3.1358e-02, -2.1309e-01,  1.3150e-02],\n",
              "                        [ 1.1396e-01, -6.5695e-02, -2.0971e-01, -5.8721e-02,  9.2954e-02],\n",
              "                        [-6.2663e-02, -2.5072e-01, -3.5097e-02,  8.6899e-02,  4.1141e-02],\n",
              "                        [-1.8366e-01, -1.8837e-01,  8.6404e-02,  9.8814e-02, -1.7744e-01],\n",
              "                        [-1.2609e-01,  4.6201e-02,  9.5310e-02, -1.8077e-02,  3.3847e-03]],\n",
              "              \n",
              "                       [[-1.2161e-01,  3.4338e-02,  7.4200e-02,  2.1970e-02, -1.1154e-01],\n",
              "                        [ 6.0148e-02,  6.9761e-02, -9.0931e-02, -1.7691e-01, -5.3948e-02],\n",
              "                        [ 5.9054e-02, -5.2009e-02, -1.2501e-01,  4.6160e-02,  1.4615e-01],\n",
              "                        [-1.2204e-01, -1.4763e-01,  6.9042e-02,  1.1546e-01,  1.0552e-01],\n",
              "                        [-1.4457e-01, -7.8719e-03,  1.8174e-01,  1.8441e-01, -5.1300e-02]],\n",
              "              \n",
              "                       [[ 5.6971e-02, -3.6666e-02, -2.7381e-02, -2.8123e-02, -3.4446e-02],\n",
              "                        [-1.2247e-02,  2.5876e-02,  8.0768e-02,  4.9730e-02,  1.2732e-02],\n",
              "                        [-7.7743e-02,  5.3650e-02, -1.8883e-02, -4.0201e-02,  4.6756e-02],\n",
              "                        [-6.2380e-02, -3.0185e-02,  2.5771e-02, -2.7348e-02,  8.8678e-02],\n",
              "                        [-1.8881e-02, -1.5669e-02,  8.6601e-02,  7.7421e-02,  6.9617e-02]],\n",
              "              \n",
              "                       [[-7.7861e-02, -4.9451e-02,  4.8085e-02,  4.4542e-02, -3.2198e-02],\n",
              "                        [-9.7672e-02, -1.2164e-02,  8.7993e-02, -4.5552e-02, -2.3343e-01],\n",
              "                        [ 3.3834e-02,  1.8654e-01,  1.4881e-01, -2.1816e-01, -6.4201e-02],\n",
              "                        [ 1.3417e-02,  4.9357e-02, -3.3528e-02,  1.3508e-03,  2.2674e-01],\n",
              "                        [ 1.3272e-01,  4.4239e-02, -5.8535e-02,  3.0546e-01,  1.5638e-01]],\n",
              "              \n",
              "                       [[ 6.1220e-02, -6.7534e-02, -9.0184e-02,  3.3240e-02,  1.4318e-02],\n",
              "                        [-8.6541e-03, -6.4152e-02,  4.7751e-02,  1.1787e-01,  1.1758e-02],\n",
              "                        [ 7.2949e-02,  3.6520e-03,  4.0234e-02,  3.0708e-02, -1.5852e-01],\n",
              "                        [-1.5459e-02,  7.1978e-02, -3.9826e-02, -1.3138e-01, -7.4231e-02],\n",
              "                        [ 9.1901e-02, -1.4372e-02,  1.6199e-02, -5.9295e-02, -3.1065e-02]],\n",
              "              \n",
              "                       [[-7.8626e-03, -3.1883e-02, -7.5148e-02, -9.3874e-02,  9.0502e-02],\n",
              "                        [-1.8938e-02, -1.7723e-01, -8.2637e-02, -3.0671e-02,  1.6926e-02],\n",
              "                        [-1.3113e-01, -7.3281e-03, -4.3151e-02,  3.1394e-03, -1.4988e-01],\n",
              "                        [-1.3408e-01,  1.5726e-02,  1.6226e-02, -1.7575e-01, -2.4175e-02],\n",
              "                        [-1.2854e-01,  4.8464e-02, -2.9822e-02, -5.3873e-02, -1.3740e-02]]]])),\n",
              "             ('conv2.bias',\n",
              "              tensor([ 0.7495,  0.2166,  0.4355, -0.2344,  0.3106, -0.2917, -0.3449,  0.0732,\n",
              "                       0.1731, -0.4943,  0.1752, -0.0388,  0.0170, -0.1434,  0.2892,  0.2665])),\n",
              "             ('fc1.weight',\n",
              "              tensor([[ 0.0750,  0.0265, -0.0928,  ...,  0.0552,  0.0477,  0.0257],\n",
              "                      [ 0.0693,  0.0183,  0.0276,  ...,  0.0247,  0.0014, -0.0646],\n",
              "                      [ 0.0311,  0.0420, -0.0296,  ..., -0.0420, -0.0471, -0.0458],\n",
              "                      ...,\n",
              "                      [ 0.0421,  0.0511,  0.0547,  ..., -0.0750, -0.0925, -0.0828],\n",
              "                      [-0.0864, -0.0471, -0.0511,  ...,  0.1147, -0.0234, -0.0147],\n",
              "                      [-0.0303, -0.0829,  0.0533,  ...,  0.0943,  0.0759, -0.2018]])),\n",
              "             ('fc1.bias',\n",
              "              tensor([-0.1131, -0.1009,  0.0311, -0.0478, -0.0259, -0.0717, -0.0920,  0.2246,\n",
              "                      -0.0371, -0.0397,  0.1639,  0.1133,  0.0603, -0.1361,  0.2012,  0.0100,\n",
              "                       0.0328,  0.0082,  0.2500, -0.0437,  0.1409,  0.1974,  0.0894,  0.1035,\n",
              "                      -0.0113,  0.0696,  0.0782,  0.0134,  0.0471,  0.1434,  0.0865, -0.0610,\n",
              "                      -0.0535,  0.0129, -0.0013,  0.1519,  0.0053,  0.0179, -0.0148, -0.0829,\n",
              "                       0.0472,  0.0588, -0.0081, -0.0160,  0.0198, -0.0119,  0.0753,  0.0308,\n",
              "                       0.1642,  0.1016,  0.0639,  0.0263, -0.0262, -0.0216, -0.0085,  0.1596,\n",
              "                      -0.0712,  0.0532,  0.0152, -0.1157,  0.1169, -0.0651, -0.1105,  0.0174,\n",
              "                      -0.1658, -0.0818, -0.2258,  0.0857,  0.1281,  0.0584, -0.0354, -0.0563,\n",
              "                      -0.0227,  0.0684, -0.0401, -0.0544,  0.1121, -0.1516,  0.1445, -0.0696,\n",
              "                       0.1193,  0.1249, -0.0570, -0.0553, -0.0803, -0.1409, -0.0382, -0.0125,\n",
              "                      -0.0715, -0.0348, -0.0349, -0.0570, -0.0849,  0.1217,  0.0134, -0.0245,\n",
              "                      -0.0433, -0.1284, -0.0562,  0.0845,  0.0244, -0.0792, -0.0108, -0.0420,\n",
              "                      -0.0859,  0.0815,  0.1710, -0.0647, -0.0306,  0.0815, -0.0117, -0.0028,\n",
              "                       0.0132, -0.0144,  0.2197,  0.0144, -0.0192,  0.1002, -0.0376,  0.0270])),\n",
              "             ('fc2.weight',\n",
              "              tensor([[-0.0036, -0.0600, -0.0123,  ...,  0.0113, -0.0585, -0.0959],\n",
              "                      [ 0.0942,  0.0789, -0.0428,  ..., -0.1829, -0.0212,  0.1077],\n",
              "                      [ 0.1128,  0.0738, -0.0203,  ...,  0.0665,  0.0287,  0.0621],\n",
              "                      ...,\n",
              "                      [ 0.0896,  0.1796, -0.0656,  ..., -0.1357,  0.0858,  0.1175],\n",
              "                      [ 0.0521, -0.0779, -0.0239,  ...,  0.0332, -0.1670,  0.0344],\n",
              "                      [ 0.0396, -0.0448, -0.0051,  ...,  0.0949,  0.0120, -0.0752]])),\n",
              "             ('fc2.bias',\n",
              "              tensor([ 0.0097, -0.0666,  0.0433, -0.0186,  0.0294,  0.2471,  0.3265, -0.0158,\n",
              "                       0.0936,  0.3025,  0.2663,  0.0904,  0.0602, -0.0687, -0.1042, -0.1598,\n",
              "                      -0.0503,  0.2921,  0.0972,  0.0077, -0.1339,  0.0662, -0.0252,  0.0193,\n",
              "                      -0.0017,  0.0686,  0.3589, -0.0756,  0.1236,  0.1404, -0.0086,  0.1417,\n",
              "                       0.1238, -0.0303,  0.0073, -0.1532, -0.0194,  0.1128,  0.1688,  0.0462,\n",
              "                      -0.1550,  0.1416, -0.0372, -0.1011, -0.0214,  0.0206, -0.1447, -0.0856,\n",
              "                      -0.0553,  0.1103,  0.1839, -0.1121,  0.0337, -0.0716,  0.2659,  0.2317,\n",
              "                      -0.0446, -0.0788,  0.2026,  0.1885, -0.0955, -0.1090,  0.1403,  0.0057,\n",
              "                       0.1250, -0.0815, -0.1249, -0.1653, -0.0299,  0.0525,  0.1887,  0.0604,\n",
              "                      -0.1046,  0.1623, -0.0932,  0.1783, -0.0546,  0.1178,  0.0471,  0.0376,\n",
              "                      -0.0761, -0.1006, -0.0654,  0.0690])),\n",
              "             ('fc3.weight',\n",
              "              tensor([[-1.0618e-01,  2.0181e-01, -2.4419e-01,  2.4282e-01, -1.6728e-01,\n",
              "                        9.3938e-02, -2.8032e-01,  3.1568e-02,  1.7666e-01, -2.2653e-01,\n",
              "                       -2.9347e-01,  2.2893e-02, -1.6330e-01,  6.5653e-02,  1.0666e-01,\n",
              "                        3.4178e-01,  1.1096e-01, -1.4252e-01,  1.5140e-01, -1.4720e-02,\n",
              "                       -7.7402e-02,  9.8247e-02, -2.1234e-01,  3.3955e-02, -6.8610e-02,\n",
              "                       -1.3673e-01, -8.1289e-02, -1.6183e-01,  2.2897e-01,  1.3484e-01,\n",
              "                        1.8833e-01, -4.8060e-02,  1.2279e-01, -8.2953e-02, -1.0374e-01,\n",
              "                        1.6730e-01,  1.5766e-01, -5.2999e-02, -1.4144e-01,  1.4835e-01,\n",
              "                       -1.6971e-01,  2.0835e-01,  2.0316e-01,  3.9015e-02, -1.5086e-01,\n",
              "                        1.6956e-01, -9.5807e-02,  1.5054e-02, -1.3891e-01,  1.3020e-01,\n",
              "                       -2.6221e-02,  5.4047e-02,  4.9257e-02,  1.1243e-01, -2.3545e-01,\n",
              "                       -1.2985e-01,  1.6248e-01,  1.2531e-01, -2.2767e-01, -7.0388e-02,\n",
              "                       -2.4791e-02, -7.1367e-02,  1.4769e-01, -1.1289e-01,  4.1292e-04,\n",
              "                       -1.2263e-01,  1.2647e-01, -8.1589e-02, -7.6863e-02,  2.6576e-01,\n",
              "                       -1.5493e-01, -2.1108e-01, -1.1014e-01,  4.6546e-02,  1.8818e-01,\n",
              "                        1.4082e-01,  8.7188e-02,  2.1285e-01, -8.7089e-02,  2.3050e-01,\n",
              "                       -1.0324e-01, -3.9361e-02,  1.5854e-01, -5.1988e-02],\n",
              "                      [-8.6511e-02, -3.6818e-02,  1.6030e-01,  3.9051e-02, -5.6680e-02,\n",
              "                       -1.5144e-01,  9.5624e-02,  2.9093e-02, -1.0016e-02, -1.6666e-01,\n",
              "                       -2.5356e-02,  1.0354e-01,  1.5293e-01,  9.1425e-02, -1.2600e-01,\n",
              "                       -8.8429e-02, -1.2154e-02, -1.1895e-01, -1.7094e-01, -7.2896e-02,\n",
              "                        3.0818e-02,  1.4825e-01, -3.3000e-02,  4.3844e-03,  8.1193e-02,\n",
              "                       -7.6412e-02, -1.6531e-01, -2.7577e-02, -2.2520e-01, -4.8385e-02,\n",
              "                       -1.9689e-01, -1.2397e-01,  2.4970e-02, -9.9419e-02,  8.3259e-02,\n",
              "                       -1.9533e-01,  1.2205e-01,  5.6821e-02,  1.1832e-02, -1.4011e-01,\n",
              "                        2.4138e-01, -7.7042e-02,  1.9052e-01, -4.8956e-02,  3.3896e-01,\n",
              "                       -1.0949e-01, -6.6855e-02,  5.6436e-02,  3.2952e-02,  6.6771e-02,\n",
              "                        8.4018e-02,  1.6595e-01, -2.0644e-01, -1.9615e-01, -8.1731e-02,\n",
              "                       -2.3583e-01,  1.9854e-01,  2.2230e-01,  4.1333e-03, -1.1990e-01,\n",
              "                       -1.6466e-01,  2.1115e-01,  1.4133e-01,  1.0081e-01, -1.9471e-01,\n",
              "                       -7.5450e-02, -1.2873e-01,  1.1976e-01,  2.3868e-01,  1.6497e-01,\n",
              "                       -1.3208e-01, -1.3401e-01,  1.5713e-01, -2.4457e-01,  7.4868e-02,\n",
              "                       -4.6322e-01,  1.3510e-01, -2.1646e-01, -4.8660e-02, -1.6306e-01,\n",
              "                       -8.6854e-02,  3.2874e-01,  5.1220e-02, -2.9128e-01],\n",
              "                      [ 3.8591e-02, -1.8185e-02,  7.3327e-02,  1.2047e-01, -2.0633e-01,\n",
              "                       -1.8079e-01,  7.7462e-02, -9.2529e-02, -6.5315e-02, -5.5827e-02,\n",
              "                       -1.2967e-01, -9.7899e-02, -7.3831e-02, -1.3829e-01,  2.2770e-01,\n",
              "                       -1.8994e-02,  1.2452e-01, -4.7943e-02, -1.4195e-01, -7.4543e-02,\n",
              "                        7.2831e-02,  1.3029e-01,  1.4835e-01, -5.5729e-02, -1.9436e-02,\n",
              "                       -2.0499e-01, -6.9940e-02, -2.4829e-01, -1.1538e-01, -1.4564e-01,\n",
              "                       -4.8173e-02, -1.8493e-01,  7.4735e-02,  1.7438e-01, -1.1782e-01,\n",
              "                       -2.3347e-02, -9.6572e-02, -2.4841e-01,  2.6603e-02, -6.6857e-02,\n",
              "                       -4.1987e-02,  3.0841e-01, -2.2812e-01,  3.1166e-02,  3.1603e-02,\n",
              "                       -1.3792e-01,  1.0910e-01,  2.1431e-01, -1.5236e-01, -1.6068e-01,\n",
              "                        1.6696e-01,  1.1691e-01,  4.0353e-02,  9.0197e-02,  1.0251e-01,\n",
              "                        1.5521e-01, -1.6462e-01, -5.5906e-02, -1.1532e-01,  2.8715e-01,\n",
              "                       -2.4100e-02, -9.5329e-02,  1.8491e-01,  1.1776e-01,  3.7647e-01,\n",
              "                       -1.1265e-01,  1.8936e-01, -2.3656e-01, -1.4682e-03,  1.1658e-02,\n",
              "                        3.3870e-01, -1.3092e-01,  1.4395e-01,  6.0999e-02,  3.3205e-02,\n",
              "                        1.7010e-01,  5.7395e-03,  1.8543e-01, -2.4248e-01, -5.8359e-02,\n",
              "                        1.2901e-01, -3.4611e-03,  1.1377e-01,  1.5127e-01],\n",
              "                      [-1.1927e-01,  1.1908e-02,  1.3199e-01, -1.9517e-01, -1.8010e-01,\n",
              "                        6.4761e-02, -5.6775e-03, -1.0256e-01, -1.4686e-01, -1.8532e-02,\n",
              "                        8.8744e-02,  1.5799e-01,  9.9095e-02,  3.1917e-02, -7.3181e-03,\n",
              "                       -1.1982e-01,  3.8923e-02,  1.1750e-02, -1.1772e-01,  1.2246e-02,\n",
              "                       -2.2663e-02,  1.0869e-01, -9.3309e-02,  1.4360e-02, -1.1814e-01,\n",
              "                        1.1416e-01, -1.8461e-01,  1.6880e-01,  1.5021e-01, -7.6046e-02,\n",
              "                        5.9610e-02, -3.0692e-02, -8.6353e-02,  1.3007e-01, -1.2188e-01,\n",
              "                       -1.5246e-02,  5.1549e-02, -7.4840e-02, -1.3207e-02, -6.1978e-02,\n",
              "                       -4.1171e-02, -1.4124e-01, -5.8231e-02, -2.3615e-02,  1.7694e-01,\n",
              "                       -4.0008e-02,  1.0109e-01,  1.1559e-02,  2.5566e-01, -1.2737e-01,\n",
              "                       -1.6568e-01, -7.9058e-02,  2.7469e-01,  1.7846e-01, -6.0568e-02,\n",
              "                        1.6705e-01, -3.4601e-02,  1.5856e-02,  4.8324e-02, -3.6769e-02,\n",
              "                       -8.2226e-02,  9.9523e-03, -1.3877e-01,  4.6311e-02,  3.5718e-02,\n",
              "                       -6.6168e-03, -1.0412e-01,  3.3956e-02,  5.8305e-02, -1.4647e-01,\n",
              "                        4.0753e-02,  7.1899e-02, -1.1712e-01,  1.8964e-01, -1.4356e-01,\n",
              "                        6.4870e-02, -7.0219e-02,  8.3274e-02, -5.4920e-02, -1.7219e-02,\n",
              "                       -4.1708e-02, -1.8608e-01,  1.4403e-01,  4.6724e-02],\n",
              "                      [-3.3810e-02,  1.1061e-01,  1.4449e-01,  2.6406e-02, -1.8457e-01,\n",
              "                        2.5103e-01,  2.7045e-01,  7.6922e-02,  8.7551e-02,  3.9784e-01,\n",
              "                        3.4262e-01,  5.5897e-02, -5.5671e-02,  2.0134e-02,  1.7298e-01,\n",
              "                       -2.2624e-01,  1.3481e-01,  3.1565e-01,  6.5087e-02, -1.8902e-02,\n",
              "                        1.3168e-01, -8.0290e-02, -1.9198e-02, -4.1577e-01,  6.4488e-02,\n",
              "                        1.8747e-01,  3.9334e-01, -1.9738e-01,  1.3320e-01, -1.1697e-01,\n",
              "                        2.3027e-03, -5.9414e-02,  3.7662e-02, -8.4267e-02,  2.3138e-02,\n",
              "                       -2.7318e-02, -9.8291e-02, -2.7630e-02,  1.8643e-01, -8.9617e-02,\n",
              "                       -1.9670e-01,  1.8890e-01,  3.7273e-02, -2.1639e-01, -1.0544e-02,\n",
              "                        1.2775e-01, -1.4702e-01, -4.2659e-02, -1.4365e-01,  1.1643e-01,\n",
              "                        2.6271e-01, -5.3021e-02, -2.2845e-01, -6.6983e-02,  2.1726e-01,\n",
              "                        2.1389e-01, -2.5609e-01, -7.8567e-02,  2.5630e-01,  2.4712e-02,\n",
              "                       -7.3316e-02, -1.8370e-01,  3.3356e-02,  8.0980e-02, -1.3532e-01,\n",
              "                       -5.4043e-03, -1.4837e-01, -6.3354e-02,  1.5596e-01,  7.3757e-03,\n",
              "                       -8.8453e-02,  1.9743e-02, -6.4424e-02,  4.5104e-02, -1.0131e-01,\n",
              "                        2.4360e-02, -1.5692e-01, -2.3221e-02, -2.0981e-02, -1.5091e-01,\n",
              "                       -1.4129e-01, -1.7778e-01, -2.0318e-01, -6.8318e-03],\n",
              "                      [ 2.0737e-01,  2.0553e-01, -5.8707e-02, -2.5255e-01,  1.4702e-01,\n",
              "                       -2.6356e-02,  2.0729e-02, -7.0888e-03,  2.0205e-02,  1.2306e-01,\n",
              "                       -1.0095e-02, -7.3111e-02, -1.5011e-01, -3.5063e-02, -1.0547e-01,\n",
              "                       -4.9073e-02, -1.1631e-04, -5.6741e-02, -8.2982e-02, -5.7805e-02,\n",
              "                       -1.3184e-02, -1.8392e-01, -2.5289e-01, -1.2307e-01, -4.5925e-02,\n",
              "                        2.1048e-02,  3.2563e-02,  1.0684e-01, -1.9162e-01,  4.5380e-02,\n",
              "                        4.4648e-02, -1.2818e-01, -2.4368e-01,  1.6289e-01,  1.2228e-02,\n",
              "                       -7.3911e-02,  3.2569e-02, -5.4431e-03, -1.1444e-01, -4.9770e-02,\n",
              "                        2.7004e-02, -7.7524e-02, -4.6423e-02,  1.2100e-01,  4.7127e-02,\n",
              "                       -2.2044e-01, -1.0832e-01,  2.4204e-02, -4.9622e-02,  6.4430e-02,\n",
              "                       -2.2110e-01, -1.9237e-01,  3.2745e-01, -1.0525e-01, -6.7049e-02,\n",
              "                        1.3819e-01,  6.7013e-02,  3.4257e-02,  5.9417e-03,  1.3642e-01,\n",
              "                       -5.9815e-02,  1.3619e-02, -1.9358e-01,  3.8973e-02, -8.6296e-02,\n",
              "                       -5.7739e-02, -2.4515e-02,  6.6642e-02, -1.0899e-01, -1.3735e-01,\n",
              "                       -1.0972e-01,  2.2844e-01,  1.0489e-02, -8.2635e-03, -1.5492e-01,\n",
              "                        6.5077e-02, -3.4254e-02,  1.9542e-01, -3.4831e-02, -1.9561e-01,\n",
              "                        5.7522e-02, -1.9109e-02, -1.7198e-01,  2.0359e-01],\n",
              "                      [-5.5406e-02,  4.5035e-02, -1.6091e-01, -1.2744e-01,  1.1850e-01,\n",
              "                        3.3648e-01,  1.2011e-01,  7.8215e-03, -6.1391e-02,  8.5119e-02,\n",
              "                        1.0692e-01, -1.3867e-01,  1.9994e-01, -1.8202e-01, -2.6322e-01,\n",
              "                        1.3471e-01, -1.6069e-01,  4.7302e-02, -3.3778e-01,  9.7946e-03,\n",
              "                        1.0055e-01, -5.1239e-02,  5.2703e-02,  3.5200e-01, -1.7410e-01,\n",
              "                       -9.6129e-02,  3.2854e-01,  9.0300e-02,  8.1035e-02,  1.5937e-01,\n",
              "                       -6.9619e-02,  1.8682e-01,  2.8666e-01,  1.0263e-01,  6.1568e-02,\n",
              "                       -1.5368e-01, -8.4932e-02,  1.5037e-01, -2.3494e-01, -2.4433e-01,\n",
              "                       -1.6234e-01, -1.5461e-01, -5.6937e-02, -2.5758e-01,  4.1485e-03,\n",
              "                        6.2834e-02, -6.4001e-02,  1.4067e-01, -1.9100e-02, -6.1309e-02,\n",
              "                       -1.7097e-02, -1.7810e-01,  6.1295e-02,  2.7476e-02,  1.1357e-01,\n",
              "                       -1.6042e-01, -2.4142e-02, -2.9596e-01, -2.3380e-01, -6.2939e-02,\n",
              "                        1.0941e-01,  3.9740e-02,  3.7313e-01, -1.8826e-01,  2.0352e-01,\n",
              "                       -1.4064e-01, -1.2681e-02,  7.0051e-03,  1.5062e-01,  1.5718e-01,\n",
              "                        2.8099e-01,  4.4533e-03, -2.1795e-01, -6.6878e-02, -2.2970e-02,\n",
              "                        2.0702e-01, -3.0104e-01, -2.4558e-01,  1.1096e-01,  1.5282e-01,\n",
              "                       -2.9210e-02,  1.4293e-01, -7.4844e-02,  1.7161e-01],\n",
              "                      [ 2.7138e-01, -1.3888e-01, -8.2296e-02,  8.9359e-02,  2.5636e-02,\n",
              "                        8.6984e-02, -2.1287e-01,  1.1341e-01,  4.3057e-01,  1.9546e-01,\n",
              "                       -9.7333e-02, -1.8064e-01,  1.3068e-01, -5.1607e-02,  2.1370e-01,\n",
              "                        4.7935e-02, -1.1156e-01,  2.7506e-01,  2.0557e-01, -3.0963e-02,\n",
              "                        1.4509e-01, -1.1889e-01,  6.3401e-02, -2.5440e-01, -3.7744e-02,\n",
              "                        4.0397e-02, -1.4629e-02,  9.0772e-02,  1.8149e-01,  2.0069e-01,\n",
              "                       -1.0537e-01,  5.9395e-02, -1.9309e-01,  2.6080e-02, -1.0641e-01,\n",
              "                        1.7452e-01, -1.1053e-01, -1.7120e-01, -4.5214e-02, -2.8779e-02,\n",
              "                        2.0618e-02,  1.3194e-01,  2.4256e-02,  8.6583e-02, -1.0413e-02,\n",
              "                        8.1704e-02,  2.3603e-01,  1.2539e-02, -4.6985e-03, -1.9848e-01,\n",
              "                       -1.2464e-01, -4.5940e-02, -5.4002e-03,  8.8284e-03,  4.1217e-02,\n",
              "                        5.3828e-02,  1.0101e-01,  2.5399e-02,  1.6981e-01,  2.3125e-01,\n",
              "                       -6.7052e-02, -2.1210e-01, -1.2830e-01, -5.7433e-02, -1.3321e-01,\n",
              "                        1.6064e-01, -1.9043e-01,  1.8392e-01,  1.0290e-01, -4.0059e-01,\n",
              "                       -2.6313e-01, -1.1254e-02,  1.7893e-01, -1.1167e-01,  3.2036e-02,\n",
              "                       -3.0471e-01,  1.6404e-02, -3.7015e-01, -1.9926e-01,  2.6701e-01,\n",
              "                        1.3632e-01, -2.1495e-01, -1.7572e-01,  6.2656e-02],\n",
              "                      [ 1.3790e-01, -2.4634e-01, -2.0486e-04, -3.8808e-02, -4.1627e-02,\n",
              "                       -2.1091e-01, -1.1297e-01,  3.8582e-03, -3.2404e-01, -1.5082e-01,\n",
              "                        8.0731e-02,  1.5311e-01, -1.9652e-01, -1.5163e-01, -2.0258e-01,\n",
              "                       -2.2675e-01, -1.4841e-01, -2.8078e-01,  1.4389e-01,  6.7425e-02,\n",
              "                       -9.4304e-02,  2.5527e-01,  2.9992e-01,  3.1007e-02,  6.7741e-02,\n",
              "                       -1.6898e-01, -2.3385e-01,  3.7818e-01, -2.5906e-02,  1.4965e-01,\n",
              "                       -5.0969e-02,  9.0234e-02, -2.3773e-01, -2.5904e-01,  2.4267e-01,\n",
              "                       -1.2555e-02, -2.1157e-02,  2.8010e-01,  3.4940e-01,  1.3135e-01,\n",
              "                        4.5527e-02, -2.3688e-01,  8.4477e-02,  4.5163e-02, -2.1241e-01,\n",
              "                        7.7848e-02, -8.4045e-02,  4.4574e-02, -1.1789e-01, -1.4050e-01,\n",
              "                        1.8064e-01, -1.5352e-02, -9.1739e-02, -1.7848e-01, -3.2795e-01,\n",
              "                       -3.6842e-02,  1.8214e-01, -7.0633e-02, -7.9493e-02, -3.3811e-01,\n",
              "                        7.1645e-02, -2.1926e-01, -6.9264e-03,  8.3066e-02, -1.6896e-01,\n",
              "                       -2.0884e-01, -1.9771e-01, -2.7139e-01,  4.6438e-02,  2.1295e-01,\n",
              "                       -1.6232e-01,  1.0144e-01, -8.5404e-02,  7.9461e-02, -4.2456e-02,\n",
              "                        6.7438e-02,  1.3532e-01,  2.2153e-01,  7.8289e-02, -1.2293e-01,\n",
              "                        1.9473e-01, -1.3863e-01,  2.0450e-01, -1.9873e-01],\n",
              "                      [-1.6289e-01, -2.3567e-02, -5.3861e-03, -9.1321e-02, -5.9157e-03,\n",
              "                       -7.1858e-02, -2.0088e-01,  1.1867e-01, -1.9135e-01, -5.6452e-02,\n",
              "                       -1.7670e-01,  9.0788e-02, -2.0329e-01,  1.1349e-01,  1.2995e-01,\n",
              "                       -5.6833e-02, -9.3095e-02,  1.0442e-02,  2.2347e-01,  5.5878e-02,\n",
              "                       -6.5232e-02, -2.5133e-02,  1.5323e-01, -1.2250e-02,  1.6030e-01,\n",
              "                        4.5727e-02,  4.2016e-02, -1.1573e-01, -6.2206e-02, -1.8582e-01,\n",
              "                        2.8151e-02,  5.8964e-02, -9.7156e-02,  6.6688e-02, -1.1455e-01,\n",
              "                        2.7306e-01,  1.4549e-01, -7.0685e-02, -1.8635e-02,  9.2721e-02,\n",
              "                        3.6655e-01, -2.2934e-01, -2.3834e-02,  4.4716e-02, -1.9200e-01,\n",
              "                        1.7270e-02,  3.9909e-02, -2.3481e-01,  4.7289e-02,  5.8219e-02,\n",
              "                       -2.7400e-01,  1.7857e-01, -1.9456e-01,  1.0884e-01, -2.4142e-01,\n",
              "                       -2.2128e-01,  4.2337e-02, -1.5108e-01, -1.8586e-01, -2.6638e-01,\n",
              "                        7.0235e-02,  2.5893e-01, -1.7416e-01, -1.2938e-01, -1.6794e-01,\n",
              "                       -8.7342e-02,  1.9306e-01,  2.7100e-01, -1.7589e-01,  6.8030e-02,\n",
              "                        1.6677e-02, -1.9936e-02,  7.0879e-02, -1.0076e-01, -1.8231e-01,\n",
              "                        1.0334e-02,  1.4119e-02, -1.0318e-01,  9.2311e-02, -2.3590e-01,\n",
              "                       -3.9695e-02,  3.1717e-01,  1.0081e-01, -2.4514e-01]])),\n",
              "             ('fc3.bias',\n",
              "              tensor([-0.3258, -0.2740,  0.2147,  0.0877,  0.5935, -0.0503,  0.4135, -0.2226,\n",
              "                       0.0810, -0.3432]))])"
            ]
          },
          "metadata": {
            "tags": []
          },
          "execution_count": 60
        }
      ]
    }
  ]
}